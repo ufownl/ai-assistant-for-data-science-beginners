{
 "cells": [
  {
   "cell_type": "markdown",
   "id": "2f88dc0e",
   "metadata": {
    "papermill": {
     "duration": 0.008679,
     "end_time": "2024-04-12T14:02:06.029803",
     "exception": false,
     "start_time": "2024-04-12T14:02:06.021124",
     "status": "completed"
    },
    "tags": []
   },
   "source": [
    "# Introduction\n",
    "\n",
    "This notebook is powered by **[lua-cgemma](https://github.com/ufownl/lua-cgemma)**, a library that provides Lua bindings for **[gemma.cpp](https://github.com/google/gemma.cpp)**, see [README.md](https://github.com/ufownl/lua-cgemma/blob/main/README.md) for more details. Thanks to **[gemma.cpp](https://github.com/google/gemma.cpp)** using **[Google Highway Library](https://github.com/google/highway)** to take advantage of portable SIMD for CPU inference, this notebook can run smoothly on the kernel without any accelerator.\n",
    "\n",
    "*Note: the context prompts of this AI assistant are constructed based on the content of [this post](https://www.springboard.com/blog/data-science/learn-data-science-on-your-own/).*"
   ]
  },
  {
   "cell_type": "markdown",
   "id": "e38d47c3",
   "metadata": {
    "papermill": {
     "duration": 0.008705,
     "end_time": "2024-04-12T14:02:06.046684",
     "exception": false,
     "start_time": "2024-04-12T14:02:06.037979",
     "status": "completed"
    },
    "tags": []
   },
   "source": [
    "# Requirements\n",
    "\n",
    "Before starting, you should have installed:\n",
    "\n",
    "- [CMake](https://cmake.org/)\n",
    "- C++ compiler, supporting at least C++17\n",
    "- [LuaJIT](https://luajit.org/), recommended to install [OpenResty](https://openresty.org/) directly\n",
    "- [websockets](https://websockets.readthedocs.io/), for interacting with AI assistant in Kaggle Notebook"
   ]
  },
  {
   "cell_type": "code",
   "execution_count": 1,
   "id": "efab793a",
   "metadata": {
    "_kg_hide-output": true,
    "execution": {
     "iopub.execute_input": "2024-04-12T14:02:06.066174Z",
     "iopub.status.busy": "2024-04-12T14:02:06.065683Z",
     "iopub.status.idle": "2024-04-12T14:02:24.239217Z",
     "shell.execute_reply": "2024-04-12T14:02:24.237753Z"
    },
    "papermill": {
     "duration": 18.187275,
     "end_time": "2024-04-12T14:02:24.242438",
     "exception": false,
     "start_time": "2024-04-12T14:02:06.055163",
     "status": "completed"
    },
    "tags": []
   },
   "outputs": [
    {
     "name": "stdout",
     "output_type": "stream",
     "text": [
      "--2024-04-12 14:02:07--  https://openresty.org/package/pubkey.gpg\r\n",
      "Resolving openresty.org (openresty.org)... 52.11.111.175, 52.53.251.226, 2600:1f1c:9b2:8000:f183:c67e:2c64:855f\r\n",
      "Connecting to openresty.org (openresty.org)|52.11.111.175|:443... connected.\r\n",
      "HTTP request sent, awaiting response... 200 OK\r\n",
      "Length: 1688 (1.6K) [text/plain]\r\n",
      "Saving to: 'STDOUT'\r\n",
      "\r\n",
      "-                   100%[===================>]   1.65K  --.-KB/s    in 0s      \r\n",
      "\r\n",
      "2024-04-12 14:02:07 (141 MB/s) - written to stdout [1688/1688]\r\n",
      "\r\n",
      "OK\r\n",
      "deb http://openresty.org/package/ubuntu focal main\r\n",
      "Get:1 http://openresty.org/package/ubuntu focal InRelease [4720 B]\r\n",
      "Get:2 http://security.ubuntu.com/ubuntu focal-security InRelease [114 kB]\r\n",
      "Get:3 http://openresty.org/package/ubuntu focal/main amd64 Packages [31.4 kB]\r\n",
      "Hit:4 https://packages.cloud.google.com/apt gcsfuse-focal InRelease\r\n",
      "Get:5 https://packages.cloud.google.com/apt cloud-sdk InRelease [6361 B]\r\n",
      "Hit:6 http://archive.ubuntu.com/ubuntu focal InRelease\r\n",
      "Get:7 http://archive.ubuntu.com/ubuntu focal-updates InRelease [114 kB]\r\n",
      "Get:8 http://security.ubuntu.com/ubuntu focal-security/restricted amd64 Packages [3490 kB]\r\n",
      "Hit:9 http://archive.ubuntu.com/ubuntu focal-backports InRelease\r\n",
      "Get:10 http://archive.ubuntu.com/ubuntu focal-updates/universe amd64 Packages [1492 kB]\r\n",
      "Get:11 http://security.ubuntu.com/ubuntu focal-security/main amd64 Packages [3547 kB]\r\n",
      "Get:12 http://security.ubuntu.com/ubuntu focal-security/universe amd64 Packages [1195 kB]\r\n",
      "Get:13 http://security.ubuntu.com/ubuntu focal-security/multiverse amd64 Packages [29.8 kB]\r\n",
      "Get:14 http://archive.ubuntu.com/ubuntu focal-updates/restricted amd64 Packages [3639 kB]\r\n",
      "Get:15 http://archive.ubuntu.com/ubuntu focal-updates/main amd64 Packages [4023 kB]\r\n",
      "Get:16 http://archive.ubuntu.com/ubuntu focal-updates/multiverse amd64 Packages [32.5 kB]\r\n",
      "Fetched 17.7 MB in 3s (6329 kB/s)\r\n",
      "\r\n",
      "\r\n",
      "\r\n",
      "58 packages can be upgraded. Run 'apt list --upgradable' to see them.\r\n",
      "\r\n",
      "\r\n",
      "\r\n",
      "The following additional packages will be installed:\r\n",
      "  openresty-openssl111 openresty-opm openresty-pcre openresty-resty\r\n",
      "  openresty-zlib\r\n",
      "Suggested packages:\r\n",
      "  openresty-restydoc\r\n",
      "The following NEW packages will be installed:\r\n",
      "  openresty openresty-openssl111 openresty-opm openresty-pcre openresty-resty\r\n",
      "  openresty-zlib\r\n",
      "0 upgraded, 6 newly installed, 0 to remove and 58 not upgraded.\r\n",
      "Need to get 2920 kB of archives.\r\n",
      "After this operation, 9590 kB of additional disk space will be used.\r\n",
      "Get:1 http://openresty.org/package/ubuntu focal/main amd64 openresty-zlib amd64 1.2.13-1~focal1 [53.1 kB]\r\n",
      "Get:2 http://openresty.org/package/ubuntu focal/main amd64 openresty-openssl111 amd64 1.1.1w-1~focal1 [1489 kB]\r\n",
      "Get:3 http://openresty.org/package/ubuntu focal/main amd64 openresty-pcre amd64 8.45-1~focal1 [161 kB]\r\n",
      "Get:4 http://openresty.org/package/ubuntu focal/main amd64 openresty amd64 1.25.3.1-2~focal1 [1183 kB]\r\n",
      "Get:5 http://openresty.org/package/ubuntu focal/main amd64 openresty-resty all 1.25.3.1-2~focal1 [13.9 kB]\r\n",
      "Get:6 http://openresty.org/package/ubuntu focal/main amd64 openresty-opm amd64 1.25.3.1-2~focal1 [19.4 kB]\r\n",
      "Fetched 2920 kB in 1s (4515 kB/s)\r\n",
      "\n",
      "\u001b7\u001b[0;23r\u001b8\u001b[1ASelecting previously unselected package openresty-zlib.\r\n",
      "(Reading database ... 110195 files and directories currently installed.)\r\n",
      "Preparing to unpack .../0-openresty-zlib_1.2.13-1~focal1_amd64.deb ...\r\n",
      "\u001b7\u001b[24;0f\u001b[42m\u001b[30mProgress: [  0%]\u001b[49m\u001b[39m [..........................................................] \u001b8\u001b7\u001b[24;0f\u001b[42m\u001b[30mProgress: [  4%]\u001b[49m\u001b[39m [##........................................................] \u001b8Unpacking openresty-zlib (1.2.13-1~focal1) ...\r\n",
      "\u001b7\u001b[24;0f\u001b[42m\u001b[30mProgress: [  8%]\u001b[49m\u001b[39m [####......................................................] \u001b8Selecting previously unselected package openresty-openssl111.\r\n",
      "Preparing to unpack .../1-openresty-openssl111_1.1.1w-1~focal1_amd64.deb ...\r\n",
      "\u001b7\u001b[24;0f\u001b[42m\u001b[30mProgress: [ 12%]\u001b[49m\u001b[39m [######....................................................] \u001b8Unpacking openresty-openssl111 (1.1.1w-1~focal1) ...\r\n",
      "\u001b7\u001b[24;0f\u001b[42m\u001b[30mProgress: [ 16%]\u001b[49m\u001b[39m [#########.................................................] \u001b8Selecting previously unselected package openresty-pcre.\r\n",
      "Preparing to unpack .../2-openresty-pcre_8.45-1~focal1_amd64.deb ...\r\n",
      "\u001b7\u001b[24;0f\u001b[42m\u001b[30mProgress: [ 20%]\u001b[49m\u001b[39m [###########...............................................] \u001b8Unpacking openresty-pcre (8.45-1~focal1) ...\r\n",
      "\u001b7\u001b[24;0f\u001b[42m\u001b[30mProgress: [ 24%]\u001b[49m\u001b[39m [#############.............................................] \u001b8Selecting previously unselected package openresty.\r\n",
      "Preparing to unpack .../3-openresty_1.25.3.1-2~focal1_amd64.deb ...\r\n",
      "\u001b7\u001b[24;0f\u001b[42m\u001b[30mProgress: [ 28%]\u001b[49m\u001b[39m [################..........................................] \u001b8Unpacking openresty (1.25.3.1-2~focal1) ...\r\n",
      "\u001b7\u001b[24;0f\u001b[42m\u001b[30mProgress: [ 32%]\u001b[49m\u001b[39m [##################........................................] \u001b8Selecting previously unselected package openresty-resty.\r\n",
      "Preparing to unpack .../4-openresty-resty_1.25.3.1-2~focal1_all.deb ...\r\n",
      "\u001b7\u001b[24;0f\u001b[42m\u001b[30mProgress: [ 36%]\u001b[49m\u001b[39m [####################......................................] \u001b8Unpacking openresty-resty (1.25.3.1-2~focal1) ...\r\n",
      "\u001b7\u001b[24;0f\u001b[42m\u001b[30mProgress: [ 40%]\u001b[49m\u001b[39m [#######################...................................] \u001b8Selecting previously unselected package openresty-opm.\r\n",
      "Preparing to unpack .../5-openresty-opm_1.25.3.1-2~focal1_amd64.deb ...\r\n",
      "\u001b7\u001b[24;0f\u001b[42m\u001b[30mProgress: [ 44%]\u001b[49m\u001b[39m [#########################.................................] \u001b8Unpacking openresty-opm (1.25.3.1-2~focal1) ...\r\n",
      "\u001b7\u001b[24;0f\u001b[42m\u001b[30mProgress: [ 48%]\u001b[49m\u001b[39m [###########################...............................] \u001b8Setting up openresty-zlib (1.2.13-1~focal1) ...\r\n",
      "\u001b7\u001b[24;0f\u001b[42m\u001b[30mProgress: [ 52%]\u001b[49m\u001b[39m [##############################............................] \u001b8\u001b7\u001b[24;0f\u001b[42m\u001b[30mProgress: [ 56%]\u001b[49m\u001b[39m [################################..........................] \u001b8Setting up openresty-pcre (8.45-1~focal1) ...\r\n",
      "\u001b7\u001b[24;0f\u001b[42m\u001b[30mProgress: [ 60%]\u001b[49m\u001b[39m [##################################........................] \u001b8\u001b7\u001b[24;0f\u001b[42m\u001b[30mProgress: [ 64%]\u001b[49m\u001b[39m [#####################################.....................] \u001b8Setting up openresty-openssl111 (1.1.1w-1~focal1) ...\r\n",
      "\u001b7\u001b[24;0f\u001b[42m\u001b[30mProgress: [ 68%]\u001b[49m\u001b[39m [#######################################...................] \u001b8\u001b7\u001b[24;0f\u001b[42m\u001b[30mProgress: [ 72%]\u001b[49m\u001b[39m [#########################################.................] \u001b8Setting up openresty (1.25.3.1-2~focal1) ...\r\n",
      "\u001b7\u001b[24;0f\u001b[42m\u001b[30mProgress: [ 76%]\u001b[49m\u001b[39m [############################################..............] \u001b8Created symlink /etc/systemd/system/multi-user.target.wants/openresty.service -> /lib/systemd/system/openresty.service.\r\n",
      "invoke-rc.d: could not determine current runlevel\r\n",
      "invoke-rc.d: policy-rc.d denied execution of start.\r\n",
      "\u001b7\u001b[24;0f\u001b[42m\u001b[30mProgress: [ 80%]\u001b[49m\u001b[39m [##############################################............] \u001b8Setting up openresty-resty (1.25.3.1-2~focal1) ...\r\n",
      "\u001b7\u001b[24;0f\u001b[42m\u001b[30mProgress: [ 84%]\u001b[49m\u001b[39m [################################################..........] \u001b8\u001b7\u001b[24;0f\u001b[42m\u001b[30mProgress: [ 88%]\u001b[49m\u001b[39m [###################################################.......] \u001b8Setting up openresty-opm (1.25.3.1-2~focal1) ...\r\n",
      "\u001b7\u001b[24;0f\u001b[42m\u001b[30mProgress: [ 92%]\u001b[49m\u001b[39m [#####################################################.....] \u001b8\u001b7\u001b[24;0f\u001b[42m\u001b[30mProgress: [ 96%]\u001b[49m\u001b[39m [#######################################################...] \u001b8Processing triggers for systemd (245.4-4ubuntu3.22) ...\r\n",
      "Processing triggers for libc-bin (2.31-0ubuntu9.14) ...\r\n",
      "\r\n",
      "\u001b7\u001b[0;24r\u001b8\u001b[1A\u001b[J"
     ]
    }
   ],
   "source": [
    "# Install OpenResty\n",
    "\n",
    "!wget -O - https://openresty.org/package/pubkey.gpg | apt-key add -\n",
    "!echo \"deb http://openresty.org/package/ubuntu $(lsb_release -sc) main\" | tee /etc/apt/sources.list.d/openresty.list\n",
    "!apt update && apt install -y openresty"
   ]
  },
  {
   "cell_type": "code",
   "execution_count": 2,
   "id": "35085b2d",
   "metadata": {
    "_kg_hide-output": true,
    "execution": {
     "iopub.execute_input": "2024-04-12T14:02:24.281369Z",
     "iopub.status.busy": "2024-04-12T14:02:24.280912Z",
     "iopub.status.idle": "2024-04-12T14:02:41.453489Z",
     "shell.execute_reply": "2024-04-12T14:02:41.451514Z"
    },
    "papermill": {
     "duration": 17.196247,
     "end_time": "2024-04-12T14:02:41.457049",
     "exception": false,
     "start_time": "2024-04-12T14:02:24.260802",
     "status": "completed"
    },
    "tags": []
   },
   "outputs": [],
   "source": [
    "# Install websockets\n",
    "\n",
    "!pip install -q -U websockets"
   ]
  },
  {
   "cell_type": "markdown",
   "id": "7b1ddeb9",
   "metadata": {
    "papermill": {
     "duration": 0.020343,
     "end_time": "2024-04-12T14:02:41.496742",
     "exception": false,
     "start_time": "2024-04-12T14:02:41.476399",
     "status": "completed"
    },
    "tags": []
   },
   "source": [
    "# Install lua-cgemma"
   ]
  },
  {
   "cell_type": "code",
   "execution_count": 3,
   "id": "d174730d",
   "metadata": {
    "_kg_hide-input": true,
    "_kg_hide-output": true,
    "execution": {
     "iopub.execute_input": "2024-04-12T14:02:41.536543Z",
     "iopub.status.busy": "2024-04-12T14:02:41.536092Z",
     "iopub.status.idle": "2024-04-12T14:02:41.541540Z",
     "shell.execute_reply": "2024-04-12T14:02:41.540323Z"
    },
    "papermill": {
     "duration": 0.028528,
     "end_time": "2024-04-12T14:02:41.544082",
     "exception": false,
     "start_time": "2024-04-12T14:02:41.515554",
     "status": "completed"
    },
    "tags": []
   },
   "outputs": [],
   "source": [
    "import os\n",
    "os.chdir(\"/opt\")"
   ]
  },
  {
   "cell_type": "markdown",
   "id": "19baca6b",
   "metadata": {
    "papermill": {
     "duration": 0.018585,
     "end_time": "2024-04-12T14:02:41.581703",
     "exception": false,
     "start_time": "2024-04-12T14:02:41.563118",
     "status": "completed"
    },
    "tags": []
   },
   "source": [
    "**1st step:** Clone the source code from [GitHub](https://github.com/ufownl/lua-cgemma):"
   ]
  },
  {
   "cell_type": "code",
   "execution_count": 4,
   "id": "5e71ec8b",
   "metadata": {
    "_kg_hide-output": true,
    "execution": {
     "iopub.execute_input": "2024-04-12T14:02:41.621351Z",
     "iopub.status.busy": "2024-04-12T14:02:41.620900Z",
     "iopub.status.idle": "2024-04-12T14:02:43.518254Z",
     "shell.execute_reply": "2024-04-12T14:02:43.516911Z"
    },
    "papermill": {
     "duration": 1.920719,
     "end_time": "2024-04-12T14:02:43.521467",
     "exception": false,
     "start_time": "2024-04-12T14:02:41.600748",
     "status": "completed"
    },
    "tags": []
   },
   "outputs": [
    {
     "name": "stdout",
     "output_type": "stream",
     "text": [
      "Cloning into 'lua-cgemma'...\r\n",
      "remote: Enumerating objects: 410, done.\u001b[K\r\n",
      "remote: Counting objects: 100% (119/119), done.\u001b[K\r\n",
      "remote: Compressing objects: 100% (84/84), done.\u001b[K\r\n",
      "remote: Total 410 (delta 67), reused 67 (delta 29), pack-reused 291\u001b[K\r\n",
      "Receiving objects: 100% (410/410), 108.69 KiB | 876.00 KiB/s, done.\r\n",
      "Resolving deltas: 100% (246/246), done.\r\n"
     ]
    }
   ],
   "source": [
    "!git clone --branch main https://github.com/ufownl/lua-cgemma.git"
   ]
  },
  {
   "cell_type": "markdown",
   "id": "0de35273",
   "metadata": {
    "papermill": {
     "duration": 0.018967,
     "end_time": "2024-04-12T14:02:43.560136",
     "exception": false,
     "start_time": "2024-04-12T14:02:43.541169",
     "status": "completed"
    },
    "tags": []
   },
   "source": [
    "**2nd step:** Build and install:"
   ]
  },
  {
   "cell_type": "code",
   "execution_count": 5,
   "id": "c4eab676",
   "metadata": {
    "_kg_hide-output": true,
    "execution": {
     "iopub.execute_input": "2024-04-12T14:02:43.601708Z",
     "iopub.status.busy": "2024-04-12T14:02:43.601238Z",
     "iopub.status.idle": "2024-04-12T14:07:30.411707Z",
     "shell.execute_reply": "2024-04-12T14:07:30.410450Z"
    },
    "papermill": {
     "duration": 286.835226,
     "end_time": "2024-04-12T14:07:30.414859",
     "exception": false,
     "start_time": "2024-04-12T14:02:43.579633",
     "status": "completed"
    },
    "tags": []
   },
   "outputs": [
    {
     "name": "stdout",
     "output_type": "stream",
     "text": [
      "cmake: /opt/conda/lib/libcurl.so.4: no version information available (required by cmake)\r\n",
      "-- The C compiler identification is GNU 9.4.0\r\n",
      "-- The CXX compiler identification is GNU 9.4.0\r\n",
      "-- Check for working C compiler: /usr/bin/cc\r\n",
      "-- Check for working C compiler: /usr/bin/cc -- works\r\n",
      "-- Detecting C compiler ABI info\r\n",
      "-- Detecting C compiler ABI info - done\r\n",
      "-- Detecting C compile features\r\n",
      "-- Detecting C compile features - done\r\n",
      "-- Check for working CXX compiler: /usr/bin/c++\r\n",
      "-- Check for working CXX compiler: /usr/bin/c++ -- works\r\n",
      "-- Detecting CXX compiler ABI info\r\n",
      "-- Detecting CXX compiler ABI info - done\r\n",
      "-- Detecting CXX compile features\r\n",
      "-- Detecting CXX compile features - done\r\n",
      "-- Performing Test ATOMICS_LOCK_FREE_INSTRUCTIONS\r\n",
      "-- Performing Test ATOMICS_LOCK_FREE_INSTRUCTIONS - Success\r\n",
      "-- Performing Test HWY_EMSCRIPTEN\r\n",
      "-- Performing Test HWY_EMSCRIPTEN - Failed\r\n",
      "-- Performing Test HWY_RISCV\r\n",
      "-- Performing Test HWY_RISCV - Failed\r\n",
      "-- Looking for sys/auxv.h\r\n",
      "-- Looking for sys/auxv.h - found\r\n",
      "-- Looking for asm/hwcap.h\r\n",
      "-- Looking for asm/hwcap.h - not found\r\n",
      "/usr/bin/cmake: /opt/conda/lib/libcurl.so.4: no version information available (required by /usr/bin/cmake)\r\n",
      "-- Configuring done\r\n",
      "-- Generating done\r\n",
      "-- Build files have been written to: /opt/lua-cgemma/build/_deps/highway-build/googletest-download\r\n",
      "/usr/bin/cmake: /opt/conda/lib/libcurl.so.4: no version information available (required by /usr/bin/cmake)\r\n",
      "/usr/bin/cmake: /opt/conda/lib/libcurl.so.4: no version information available (required by /usr/bin/cmake)\r\n",
      "/usr/bin/cmake: /opt/conda/lib/libcurl.so.4: no version information available (required by /usr/bin/cmake)\r\n",
      "/usr/bin/cmake: /opt/conda/lib/libcurl.so.4: no version information available (required by /usr/bin/cmake)\r\n",
      "\u001b[35m\u001b[1mScanning dependencies of target googletest\u001b[0m\r\n",
      "/usr/bin/cmake: /opt/conda/lib/libcurl.so.4: no version information available (required by /usr/bin/cmake)\r\n",
      "[ 11%] \u001b[34m\u001b[1mCreating directories for 'googletest'\u001b[0m\r\n",
      "/usr/bin/cmake: /opt/conda/lib/libcurl.so.4: no version information available (required by /usr/bin/cmake)\r\n",
      "/usr/bin/cmake: /opt/conda/lib/libcurl.so.4: no version information available (required by /usr/bin/cmake)\r\n",
      "/usr/bin/cmake: /opt/conda/lib/libcurl.so.4: no version information available (required by /usr/bin/cmake)\r\n",
      "/usr/bin/cmake: /opt/conda/lib/libcurl.so.4: no version information available (required by /usr/bin/cmake)\r\n",
      "/usr/bin/cmake: /opt/conda/lib/libcurl.so.4: no version information available (required by /usr/bin/cmake)\r\n",
      "/usr/bin/cmake: /opt/conda/lib/libcurl.so.4: no version information available (required by /usr/bin/cmake)\r\n",
      "/usr/bin/cmake: /opt/conda/lib/libcurl.so.4: no version information available (required by /usr/bin/cmake)\r\n",
      "/usr/bin/cmake: /opt/conda/lib/libcurl.so.4: no version information available (required by /usr/bin/cmake)\r\n",
      "/usr/bin/cmake: /opt/conda/lib/libcurl.so.4: no version information available (required by /usr/bin/cmake)\r\n",
      "[ 22%] \u001b[34m\u001b[1mPerforming download step (git clone) for 'googletest'\u001b[0m\r\n",
      "/usr/bin/cmake: /opt/conda/lib/libcurl.so.4: no version information available (required by /usr/bin/cmake)\r\n",
      "/usr/bin/cmake: /opt/conda/lib/libcurl.so.4: no version information available (required by /usr/bin/cmake)\r\n",
      "Cloning into 'googletest-src'...\r\n",
      "Note: switching to '43efa0a4efd40c78b9210d15373112081899a97c'.\r\n",
      "\r\n",
      "You are in 'detached HEAD' state. You can look around, make experimental\r\n",
      "changes and commit them, and you can discard any commits you make in this\r\n",
      "state without impacting any branches by switching back to a branch.\r\n",
      "\r\n",
      "If you want to create a new branch to retain commits you create, you may\r\n",
      "do so (now or later) by using -c with the switch command. Example:\r\n",
      "\r\n",
      "  git switch -c <new-branch-name>\r\n",
      "\r\n",
      "Or undo this operation with:\r\n",
      "\r\n",
      "  git switch -\r\n",
      "\r\n",
      "Turn off this advice by setting config variable advice.detachedHead to false\r\n",
      "\r\n",
      "HEAD is now at 43efa0a4 Merge pull request #3617 from Bagira80:fix_3616\r\n",
      "/usr/bin/cmake: /opt/conda/lib/libcurl.so.4: no version information available (required by /usr/bin/cmake)\r\n",
      "/usr/bin/cmake: /opt/conda/lib/libcurl.so.4: no version information available (required by /usr/bin/cmake)\r\n",
      "/usr/bin/cmake: /opt/conda/lib/libcurl.so.4: no version information available (required by /usr/bin/cmake)\r\n",
      "[ 33%] \u001b[34m\u001b[1mNo patch step for 'googletest'\u001b[0m\r\n",
      "/usr/bin/cmake: /opt/conda/lib/libcurl.so.4: no version information available (required by /usr/bin/cmake)\r\n",
      "/usr/bin/cmake: /opt/conda/lib/libcurl.so.4: no version information available (required by /usr/bin/cmake)\r\n",
      "/usr/bin/cmake: /opt/conda/lib/libcurl.so.4: no version information available (required by /usr/bin/cmake)\r\n",
      "[ 44%] \u001b[34m\u001b[1mPerforming update step for 'googletest'\u001b[0m\r\n",
      "/usr/bin/cmake: /opt/conda/lib/libcurl.so.4: no version information available (required by /usr/bin/cmake)\r\n",
      "/usr/bin/cmake: /opt/conda/lib/libcurl.so.4: no version information available (required by /usr/bin/cmake)\r\n",
      "[ 55%] \u001b[34m\u001b[1mNo configure step for 'googletest'\u001b[0m\r\n",
      "/usr/bin/cmake: /opt/conda/lib/libcurl.so.4: no version information available (required by /usr/bin/cmake)\r\n",
      "/usr/bin/cmake: /opt/conda/lib/libcurl.so.4: no version information available (required by /usr/bin/cmake)\r\n",
      "/usr/bin/cmake: /opt/conda/lib/libcurl.so.4: no version information available (required by /usr/bin/cmake)\r\n",
      "[ 66%] \u001b[34m\u001b[1mNo build step for 'googletest'\u001b[0m\r\n",
      "/usr/bin/cmake: /opt/conda/lib/libcurl.so.4: no version information available (required by /usr/bin/cmake)\r\n",
      "/usr/bin/cmake: /opt/conda/lib/libcurl.so.4: no version information available (required by /usr/bin/cmake)\r\n",
      "/usr/bin/cmake: /opt/conda/lib/libcurl.so.4: no version information available (required by /usr/bin/cmake)\r\n",
      "[ 77%] \u001b[34m\u001b[1mNo install step for 'googletest'\u001b[0m\r\n",
      "/usr/bin/cmake: /opt/conda/lib/libcurl.so.4: no version information available (required by /usr/bin/cmake)\r\n",
      "/usr/bin/cmake: /opt/conda/lib/libcurl.so.4: no version information available (required by /usr/bin/cmake)\r\n",
      "/usr/bin/cmake: /opt/conda/lib/libcurl.so.4: no version information available (required by /usr/bin/cmake)\r\n",
      "[ 88%] \u001b[34m\u001b[1mNo test step for 'googletest'\u001b[0m\r\n",
      "/usr/bin/cmake: /opt/conda/lib/libcurl.so.4: no version information available (required by /usr/bin/cmake)\r\n",
      "/usr/bin/cmake: /opt/conda/lib/libcurl.so.4: no version information available (required by /usr/bin/cmake)\r\n",
      "/usr/bin/cmake: /opt/conda/lib/libcurl.so.4: no version information available (required by /usr/bin/cmake)\r\n",
      "[100%] \u001b[34m\u001b[1mCompleted 'googletest'\u001b[0m\r\n",
      "/usr/bin/cmake: /opt/conda/lib/libcurl.so.4: no version information available (required by /usr/bin/cmake)\r\n",
      "/usr/bin/cmake: /opt/conda/lib/libcurl.so.4: no version information available (required by /usr/bin/cmake)\r\n",
      "/usr/bin/cmake: /opt/conda/lib/libcurl.so.4: no version information available (required by /usr/bin/cmake)\r\n",
      "/usr/bin/cmake: /opt/conda/lib/libcurl.so.4: no version information available (required by /usr/bin/cmake)\r\n",
      "[100%] Built target googletest\r\n",
      "/usr/bin/cmake: /opt/conda/lib/libcurl.so.4: no version information available (required by /usr/bin/cmake)\r\n",
      "-- Found Python: /usr/bin/python3.8 (found version \"3.8.10\") found components: Interpreter \r\n",
      "-- Looking for pthread.h\r\n",
      "-- Looking for pthread.h - found\r\n",
      "-- Performing Test CMAKE_HAVE_LIBC_PTHREAD\r\n",
      "-- Performing Test CMAKE_HAVE_LIBC_PTHREAD - Failed\r\n",
      "-- Looking for pthread_create in pthreads\r\n",
      "-- Looking for pthread_create in pthreads - not found\r\n",
      "-- Looking for pthread_create in pthread\r\n",
      "-- Looking for pthread_create in pthread - found\r\n",
      "-- Found Threads: TRUE  \r\n",
      "-- VERSION: 0.2.0\r\n",
      "-- Not Found TCMalloc: TCMALLOC_LIB-NOTFOUND\r\n",
      "-- Using the multi-header code from /opt/lua-cgemma/build/_deps/json-src/include/\r\n",
      "-- Found LuaJIT: /usr/local/openresty/luajit/lib/libluajit-5.1.so (found version \"2.1.ROLLING\") \r\n",
      "-- Configuring done\r\n",
      "-- Generating done\r\n",
      "-- Build files have been written to: /opt/lua-cgemma/build\r\n",
      "/usr/bin/cmake: /opt/conda/lib/libcurl.so.4: no version information available (required by /usr/bin/cmake)\r\n",
      "/usr/bin/cmake: /opt/conda/lib/libcurl.so.4: no version information available (required by /usr/bin/cmake)\r\n",
      "/usr/bin/cmake: /opt/conda/lib/libcurl.so.4: no version information available (required by /usr/bin/cmake)\r\n",
      "/usr/bin/cmake: /opt/conda/lib/libcurl.so.4: no version information available (required by /usr/bin/cmake)\r\n",
      "\u001b[35m\u001b[1mScanning dependencies of target hwy\u001b[0m\r\n",
      "\u001b[35m\u001b[1mScanning dependencies of target sentencepiece\u001b[0m\r\n",
      "/usr/bin/cmake: /opt/conda/lib/libcurl.so.4: no version information available (required by /usr/bin/cmake)\r\n",
      "/usr/bin/cmake: /opt/conda/lib/libcurl.so.4: no version information available (required by /usr/bin/cmake)\r\n",
      "/usr/bin/cmake: /opt/conda/lib/libcurl.so.4: no version information available (required by /usr/bin/cmake)\r\n",
      "[  0%] \u001b[32mBuilding CXX object _deps/highway-build/CMakeFiles/hwy.dir/hwy/aligned_allocator.cc.o\u001b[0m\r\n",
      "[  0%] \u001b[32mBuilding CXX object _deps/highway-build/CMakeFiles/hwy.dir/hwy/per_target.cc.o\u001b[0m\r\n",
      "[  3%] \u001b[32mBuilding CXX object _deps/highway-build/CMakeFiles/hwy.dir/hwy/nanobenchmark.cc.o\u001b[0m\r\n",
      "/usr/bin/cmake: /opt/conda/lib/libcurl.so.4: no version information available (required by /usr/bin/cmake)\r\n",
      "[  7%] \u001b[32mBuilding CXX object _deps/sentencepiece-build/src/CMakeFiles/sentencepiece.dir/__/third_party/protobuf-lite/arena.cc.o\u001b[0m\r\n",
      "/usr/bin/cmake: /opt/conda/lib/libcurl.so.4: no version information available (required by /usr/bin/cmake)\r\n",
      "[  7%] \u001b[32mBuilding CXX object _deps/sentencepiece-build/src/CMakeFiles/sentencepiece.dir/__/third_party/protobuf-lite/arenastring.cc.o\u001b[0m\r\n",
      "/usr/bin/cmake: /opt/conda/lib/libcurl.so.4: no version information available (required by /usr/bin/cmake)\r\n",
      "[  7%] \u001b[32mBuilding CXX object _deps/sentencepiece-build/src/CMakeFiles/sentencepiece.dir/__/third_party/protobuf-lite/bytestream.cc.o\u001b[0m\r\n",
      "/usr/bin/cmake: /opt/conda/lib/libcurl.so.4: no version information available (required by /usr/bin/cmake)\r\n",
      "[ 10%] \u001b[32mBuilding CXX object _deps/sentencepiece-build/src/CMakeFiles/sentencepiece.dir/__/third_party/protobuf-lite/coded_stream.cc.o\u001b[0m\r\n",
      "/usr/bin/cmake: /opt/conda/lib/libcurl.so.4: no version information available (required by /usr/bin/cmake)\r\n",
      "[ 10%] \u001b[32mBuilding CXX object _deps/highway-build/CMakeFiles/hwy.dir/hwy/print.cc.o\u001b[0m\r\n",
      "/usr/bin/cmake: /opt/conda/lib/libcurl.so.4: no version information available (required by /usr/bin/cmake)\r\n",
      "[ 10%] \u001b[32mBuilding CXX object _deps/sentencepiece-build/src/CMakeFiles/sentencepiece.dir/__/third_party/protobuf-lite/common.cc.o\u001b[0m\r\n",
      "/usr/bin/cmake: /opt/conda/lib/libcurl.so.4: no version information available (required by /usr/bin/cmake)\r\n",
      "[ 14%] \u001b[32mBuilding CXX object _deps/highway-build/CMakeFiles/hwy.dir/hwy/targets.cc.o\u001b[0m\r\n",
      "/usr/bin/cmake: /opt/conda/lib/libcurl.so.4: no version information available (required by /usr/bin/cmake)\r\n",
      "[ 14%] \u001b[32mBuilding CXX object _deps/highway-build/CMakeFiles/hwy.dir/hwy/timer.cc.o\u001b[0m\r\n",
      "/usr/bin/cmake: /opt/conda/lib/libcurl.so.4: no version information available (required by /usr/bin/cmake)\r\n",
      "[ 14%] \u001b[32mBuilding CXX object _deps/sentencepiece-build/src/CMakeFiles/sentencepiece.dir/__/third_party/protobuf-lite/extension_set.cc.o\u001b[0m\r\n",
      "/usr/bin/cmake: /opt/conda/lib/libcurl.so.4: no version information available (required by /usr/bin/cmake)\r\n",
      "[ 17%] \u001b[32mBuilding CXX object _deps/sentencepiece-build/src/CMakeFiles/sentencepiece.dir/__/third_party/protobuf-lite/generated_enum_util.cc.o\u001b[0m\r\n",
      "/usr/bin/cmake: /opt/conda/lib/libcurl.so.4: no version information available (required by /usr/bin/cmake)\r\n",
      "[ 17%] \u001b[32mBuilding CXX object _deps/sentencepiece-build/src/CMakeFiles/sentencepiece.dir/__/third_party/protobuf-lite/generated_message_table_driven_lite.cc.o\u001b[0m\r\n",
      "/usr/bin/cmake: /opt/conda/lib/libcurl.so.4: no version information available (required by /usr/bin/cmake)\r\n",
      "[ 17%] \u001b[32mBuilding CXX object _deps/sentencepiece-build/src/CMakeFiles/sentencepiece.dir/__/third_party/protobuf-lite/generated_message_util.cc.o\u001b[0m\r\n",
      "/usr/bin/cmake: /opt/conda/lib/libcurl.so.4: no version information available (required by /usr/bin/cmake)\r\n",
      "[ 17%] \u001b[32m\u001b[1mLinking CXX static library libhwy.a\u001b[0m\r\n",
      "/usr/bin/cmake: /opt/conda/lib/libcurl.so.4: no version information available (required by /usr/bin/cmake)\r\n",
      "/usr/bin/cmake: /opt/conda/lib/libcurl.so.4: no version information available (required by /usr/bin/cmake)\r\n",
      "/usr/bin/cmake: /opt/conda/lib/libcurl.so.4: no version information available (required by /usr/bin/cmake)\r\n",
      "[ 17%] Built target hwy\r\n",
      "/usr/bin/cmake: /opt/conda/lib/libcurl.so.4: no version information available (required by /usr/bin/cmake)\r\n",
      "\u001b[35m\u001b[1mScanning dependencies of target hwy_contrib\u001b[0m\r\n",
      "/usr/bin/cmake: /opt/conda/lib/libcurl.so.4: no version information available (required by /usr/bin/cmake)\r\n",
      "[ 21%] \u001b[32mBuilding CXX object _deps/highway-build/CMakeFiles/hwy_contrib.dir/hwy/contrib/sort/vqsort_128a.cc.o\u001b[0m\r\n",
      "/usr/bin/cmake: /opt/conda/lib/libcurl.so.4: no version information available (required by /usr/bin/cmake)\r\n",
      "/usr/bin/cmake: /opt/conda/lib/libcurl.so.4: no version information available (required by /usr/bin/cmake)\r\n",
      "[ 25%] \u001b[32mBuilding CXX object _deps/sentencepiece-build/src/CMakeFiles/sentencepiece.dir/__/third_party/protobuf-lite/implicit_weak_message.cc.o\u001b[0m\r\n",
      "[ 25%] \u001b[32mBuilding CXX object _deps/sentencepiece-build/src/CMakeFiles/sentencepiece.dir/__/third_party/protobuf-lite/int128.cc.o\u001b[0m\r\n",
      "/usr/bin/cmake: /opt/conda/lib/libcurl.so.4: no version information available (required by /usr/bin/cmake)\r\n",
      "/usr/bin/cmake: /opt/conda/lib/libcurl.so.4: no version information available (required by /usr/bin/cmake)\r\n",
      "[ 25%] \u001b[32mBuilding CXX object _deps/sentencepiece-build/src/CMakeFiles/sentencepiece.dir/__/third_party/protobuf-lite/io_win32.cc.o\u001b[0m\r\n",
      "[ 28%] \u001b[32mBuilding CXX object _deps/sentencepiece-build/src/CMakeFiles/sentencepiece.dir/__/third_party/protobuf-lite/message_lite.cc.o\u001b[0m\r\n",
      "/usr/bin/cmake: /opt/conda/lib/libcurl.so.4: no version information available (required by /usr/bin/cmake)\r\n",
      "[ 28%] \u001b[32mBuilding CXX object _deps/sentencepiece-build/src/CMakeFiles/sentencepiece.dir/__/third_party/protobuf-lite/parse_context.cc.o\u001b[0m\r\n",
      "/usr/bin/cmake: /opt/conda/lib/libcurl.so.4: no version information available (required by /usr/bin/cmake)\r\n",
      "[ 28%] \u001b[32mBuilding CXX object _deps/sentencepiece-build/src/CMakeFiles/sentencepiece.dir/__/third_party/protobuf-lite/repeated_field.cc.o\u001b[0m\r\n",
      "In file included from \u001b[01m\u001b[K/usr/include/string.h:495\u001b[m\u001b[K,\r\n",
      "                 from \u001b[01m\u001b[K/opt/lua-cgemma/build/_deps/sentencepiece-src/src/../third_party/protobuf-lite/google/protobuf/stubs/port.h:39\u001b[m\u001b[K,\r\n",
      "                 from \u001b[01m\u001b[K/opt/lua-cgemma/build/_deps/sentencepiece-src/src/../third_party/protobuf-lite/google/protobuf/stubs/macros.h:34\u001b[m\u001b[K,\r\n",
      "                 from \u001b[01m\u001b[K/opt/lua-cgemma/build/_deps/sentencepiece-src/src/../third_party/protobuf-lite/google/protobuf/stubs/common.h:46\u001b[m\u001b[K,\r\n",
      "                 from \u001b[01m\u001b[K/opt/lua-cgemma/build/_deps/sentencepiece-src/src/../third_party/protobuf-lite/google/protobuf/message_lite.h:45\u001b[m\u001b[K,\r\n",
      "                 from \u001b[01m\u001b[K/opt/lua-cgemma/build/_deps/sentencepiece-src/third_party/protobuf-lite/message_lite.cc:36\u001b[m\u001b[K:\r\n",
      "In function '\u001b[01m\u001b[Kvoid* memcpy(void*, const void*, size_t)\u001b[m\u001b[K',\r\n",
      "    inlined from '\u001b[01m\u001b[Kgoogle::protobuf::uint8* google::protobuf::io::EpsCopyOutputStream::WriteRaw(const void*, int, google::protobuf::uint8*)\u001b[m\u001b[K' at \u001b[01m\u001b[K/opt/lua-cgemma/build/_deps/sentencepiece-src/src/../third_party/protobuf-lite/google/protobuf/io/coded_stream.h:699:16\u001b[m\u001b[K,\r\n",
      "    inlined from '\u001b[01m\u001b[Kbool google::protobuf::MessageLite::SerializePartialToZeroCopyStream(google::protobuf::io::ZeroCopyOutputStream*) const\u001b[m\u001b[K' at \u001b[01m\u001b[K/opt/lua-cgemma/build/_deps/sentencepiece-src/src/../third_party/protobuf-lite/google/protobuf/implicit_weak_message.h:85:28\u001b[m\u001b[K:\r\n",
      "\u001b[01m\u001b[K/usr/include/x86_64-linux-gnu/bits/string_fortified.h:34:33:\u001b[m\u001b[K \u001b[01;35m\u001b[Kwarning: \u001b[m\u001b[K'\u001b[01m\u001b[Kvoid* __builtin___memcpy_chk(void*, const void*, long unsigned int, long unsigned int)\u001b[m\u001b[K' specified size between 18446744071562067968 and 18446744073709551615 exceeds maximum object size 9223372036854775807 [\u001b[01;35m\u001b[K-Wstringop-overflow=\u001b[m\u001b[K]\r\n",
      "   34 |   return \u001b[01;35m\u001b[K__builtin___memcpy_chk (__dest, __src, __len, __bos0 (__dest))\u001b[m\u001b[K;\r\n",
      "      |          \u001b[01;35m\u001b[K~~~~~~~~~~~~~~~~~~~~~~~^~~~~~~~~~~~~~~~~~~~~~~~~~~~~~~~~~~~~~~\u001b[m\u001b[K\r\n",
      "/usr/bin/cmake: /opt/conda/lib/libcurl.so.4: no version information available (required by /usr/bin/cmake)\r\n",
      "[ 32%] \u001b[32mBuilding CXX object _deps/sentencepiece-build/src/CMakeFiles/sentencepiece.dir/__/third_party/protobuf-lite/status.cc.o\u001b[0m\r\n",
      "/usr/bin/cmake: /opt/conda/lib/libcurl.so.4: no version information available (required by /usr/bin/cmake)\r\n",
      "[ 32%] \u001b[32mBuilding CXX object _deps/sentencepiece-build/src/CMakeFiles/sentencepiece.dir/__/third_party/protobuf-lite/statusor.cc.o\u001b[0m\r\n",
      "/usr/bin/cmake: /opt/conda/lib/libcurl.so.4: no version information available (required by /usr/bin/cmake)\r\n",
      "[ 32%] \u001b[32mBuilding CXX object _deps/sentencepiece-build/src/CMakeFiles/sentencepiece.dir/__/third_party/protobuf-lite/stringpiece.cc.o\u001b[0m\r\n",
      "/usr/bin/cmake: /opt/conda/lib/libcurl.so.4: no version information available (required by /usr/bin/cmake)\r\n",
      "[ 35%] \u001b[32mBuilding CXX object _deps/sentencepiece-build/src/CMakeFiles/sentencepiece.dir/__/third_party/protobuf-lite/stringprintf.cc.o\u001b[0m\r\n",
      "/usr/bin/cmake: /opt/conda/lib/libcurl.so.4: no version information available (required by /usr/bin/cmake)\r\n",
      "[ 35%] \u001b[32mBuilding CXX object _deps/sentencepiece-build/src/CMakeFiles/sentencepiece.dir/__/third_party/protobuf-lite/structurally_valid.cc.o\u001b[0m\r\n",
      "/usr/bin/cmake: /opt/conda/lib/libcurl.so.4: no version information available (required by /usr/bin/cmake)\r\n",
      "[ 35%] \u001b[32mBuilding CXX object _deps/sentencepiece-build/src/CMakeFiles/sentencepiece.dir/__/third_party/protobuf-lite/strutil.cc.o\u001b[0m\r\n",
      "/usr/bin/cmake: /opt/conda/lib/libcurl.so.4: no version information available (required by /usr/bin/cmake)\r\n",
      "[ 39%] \u001b[32mBuilding CXX object _deps/sentencepiece-build/src/CMakeFiles/sentencepiece.dir/__/third_party/protobuf-lite/time.cc.o\u001b[0m\r\n",
      "/usr/bin/cmake: /opt/conda/lib/libcurl.so.4: no version information available (required by /usr/bin/cmake)\r\n",
      "[ 39%] \u001b[32mBuilding CXX object _deps/sentencepiece-build/src/CMakeFiles/sentencepiece.dir/__/third_party/protobuf-lite/wire_format_lite.cc.o\u001b[0m\r\n",
      "/usr/bin/cmake: /opt/conda/lib/libcurl.so.4: no version information available (required by /usr/bin/cmake)\r\n",
      "[ 39%] \u001b[32mBuilding CXX object _deps/sentencepiece-build/src/CMakeFiles/sentencepiece.dir/__/third_party/protobuf-lite/zero_copy_stream.cc.o\u001b[0m\r\n",
      "/usr/bin/cmake: /opt/conda/lib/libcurl.so.4: no version information available (required by /usr/bin/cmake)\r\n",
      "[ 42%] \u001b[32mBuilding CXX object _deps/sentencepiece-build/src/CMakeFiles/sentencepiece.dir/__/third_party/protobuf-lite/zero_copy_stream_impl.cc.o\u001b[0m\r\n",
      "/usr/bin/cmake: /opt/conda/lib/libcurl.so.4: no version information available (required by /usr/bin/cmake)\r\n",
      "[ 42%] \u001b[32mBuilding CXX object _deps/sentencepiece-build/src/CMakeFiles/sentencepiece.dir/__/third_party/protobuf-lite/zero_copy_stream_impl_lite.cc.o\u001b[0m\r\n",
      "/usr/bin/cmake: /opt/conda/lib/libcurl.so.4: no version information available (required by /usr/bin/cmake)\r\n",
      "[ 42%] \u001b[32mBuilding CXX object _deps/sentencepiece-build/src/CMakeFiles/sentencepiece.dir/builtin_pb/sentencepiece.pb.cc.o\u001b[0m\r\n",
      "/usr/bin/cmake: /opt/conda/lib/libcurl.so.4: no version information available (required by /usr/bin/cmake)\r\n",
      "[ 46%] \u001b[32mBuilding CXX object _deps/sentencepiece-build/src/CMakeFiles/sentencepiece.dir/builtin_pb/sentencepiece_model.pb.cc.o\u001b[0m\r\n",
      "/usr/bin/cmake: /opt/conda/lib/libcurl.so.4: no version information available (required by /usr/bin/cmake)\r\n",
      "[ 46%] \u001b[32mBuilding CXX object _deps/sentencepiece-build/src/CMakeFiles/sentencepiece.dir/bpe_model.cc.o\u001b[0m\r\n",
      "/usr/bin/cmake: /opt/conda/lib/libcurl.so.4: no version information available (required by /usr/bin/cmake)\r\n",
      "[ 46%] \u001b[32mBuilding CXX object _deps/sentencepiece-build/src/CMakeFiles/sentencepiece.dir/char_model.cc.o\u001b[0m\r\n",
      "/usr/bin/cmake: /opt/conda/lib/libcurl.so.4: no version information available (required by /usr/bin/cmake)\r\n",
      "[ 50%] \u001b[32mBuilding CXX object _deps/sentencepiece-build/src/CMakeFiles/sentencepiece.dir/error.cc.o\u001b[0m\r\n",
      "/usr/bin/cmake: /opt/conda/lib/libcurl.so.4: no version information available (required by /usr/bin/cmake)\r\n",
      "[ 50%] \u001b[32mBuilding CXX object _deps/sentencepiece-build/src/CMakeFiles/sentencepiece.dir/filesystem.cc.o\u001b[0m\r\n",
      "/usr/bin/cmake: /opt/conda/lib/libcurl.so.4: no version information available (required by /usr/bin/cmake)\r\n",
      "[ 50%] \u001b[32mBuilding CXX object _deps/sentencepiece-build/src/CMakeFiles/sentencepiece.dir/model_factory.cc.o\u001b[0m\r\n",
      "/usr/bin/cmake: /opt/conda/lib/libcurl.so.4: no version information available (required by /usr/bin/cmake)\r\n",
      "[ 53%] \u001b[32mBuilding CXX object _deps/sentencepiece-build/src/CMakeFiles/sentencepiece.dir/model_interface.cc.o\u001b[0m\r\n",
      "/usr/bin/cmake: /opt/conda/lib/libcurl.so.4: no version information available (required by /usr/bin/cmake)\r\n",
      "[ 53%] \u001b[32mBuilding CXX object _deps/sentencepiece-build/src/CMakeFiles/sentencepiece.dir/normalizer.cc.o\u001b[0m\r\n",
      "/usr/bin/cmake: /opt/conda/lib/libcurl.so.4: no version information available (required by /usr/bin/cmake)\r\n",
      "[ 53%] \u001b[32mBuilding CXX object _deps/highway-build/CMakeFiles/hwy_contrib.dir/hwy/contrib/sort/vqsort_128d.cc.o\u001b[0m\r\n",
      "/usr/bin/cmake: /opt/conda/lib/libcurl.so.4: no version information available (required by /usr/bin/cmake)\r\n",
      "[ 53%] \u001b[32mBuilding CXX object _deps/sentencepiece-build/src/CMakeFiles/sentencepiece.dir/sentencepiece_processor.cc.o\u001b[0m\r\n",
      "/usr/bin/cmake: /opt/conda/lib/libcurl.so.4: no version information available (required by /usr/bin/cmake)\r\n",
      "[ 57%] \u001b[32mBuilding CXX object _deps/sentencepiece-build/src/CMakeFiles/sentencepiece.dir/unigram_model.cc.o\u001b[0m\r\n",
      "/usr/bin/cmake: /opt/conda/lib/libcurl.so.4: no version information available (required by /usr/bin/cmake)\r\n",
      "[ 57%] \u001b[32mBuilding CXX object _deps/sentencepiece-build/src/CMakeFiles/sentencepiece.dir/util.cc.o\u001b[0m\r\n",
      "/usr/bin/cmake: /opt/conda/lib/libcurl.so.4: no version information available (required by /usr/bin/cmake)\r\n",
      "[ 57%] \u001b[32mBuilding CXX object _deps/sentencepiece-build/src/CMakeFiles/sentencepiece.dir/word_model.cc.o\u001b[0m\r\n",
      "/usr/bin/cmake: /opt/conda/lib/libcurl.so.4: no version information available (required by /usr/bin/cmake)\r\n",
      "[ 60%] \u001b[32mBuilding CXX object _deps/sentencepiece-build/src/CMakeFiles/sentencepiece.dir/__/third_party/absl/flags/flag.cc.o\u001b[0m\r\n",
      "/usr/bin/cmake: /opt/conda/lib/libcurl.so.4: no version information available (required by /usr/bin/cmake)\r\n",
      "[ 60%] \u001b[32mBuilding CXX object _deps/highway-build/CMakeFiles/hwy_contrib.dir/hwy/contrib/sort/vqsort_f16a.cc.o\u001b[0m\r\n",
      "/usr/bin/cmake: /opt/conda/lib/libcurl.so.4: no version information available (required by /usr/bin/cmake)\r\n",
      "[ 64%] \u001b[32mBuilding CXX object _deps/highway-build/CMakeFiles/hwy_contrib.dir/hwy/contrib/sort/vqsort_f16d.cc.o\u001b[0m\r\n",
      "/usr/bin/cmake: /opt/conda/lib/libcurl.so.4: no version information available (required by /usr/bin/cmake)\r\n",
      "[ 64%] \u001b[32m\u001b[1mLinking CXX shared library libsentencepiece.so\u001b[0m\r\n",
      "/usr/bin/cmake: /opt/conda/lib/libcurl.so.4: no version information available (required by /usr/bin/cmake)\r\n",
      "/usr/bin/cmake: /opt/conda/lib/libcurl.so.4: no version information available (required by /usr/bin/cmake)\r\n",
      "/usr/bin/cmake: /opt/conda/lib/libcurl.so.4: no version information available (required by /usr/bin/cmake)\r\n",
      "/usr/bin/cmake: /opt/conda/lib/libcurl.so.4: no version information available (required by /usr/bin/cmake)\r\n",
      "[ 64%] Built target sentencepiece\r\n",
      "/usr/bin/cmake: /opt/conda/lib/libcurl.so.4: no version information available (required by /usr/bin/cmake)\r\n",
      "[ 64%] \u001b[32mBuilding CXX object _deps/highway-build/CMakeFiles/hwy_contrib.dir/hwy/contrib/sort/vqsort_f32a.cc.o\u001b[0m\r\n",
      "/usr/bin/cmake: /opt/conda/lib/libcurl.so.4: no version information available (required by /usr/bin/cmake)\r\n",
      "[ 64%] \u001b[32mBuilding CXX object _deps/highway-build/CMakeFiles/hwy_contrib.dir/hwy/contrib/sort/vqsort_f32d.cc.o\u001b[0m\r\n",
      "/usr/bin/cmake: /opt/conda/lib/libcurl.so.4: no version information available (required by /usr/bin/cmake)\r\n",
      "[ 67%] \u001b[32mBuilding CXX object _deps/highway-build/CMakeFiles/hwy_contrib.dir/hwy/contrib/sort/vqsort_f64a.cc.o\u001b[0m\r\n",
      "/usr/bin/cmake: /opt/conda/lib/libcurl.so.4: no version information available (required by /usr/bin/cmake)\r\n",
      "[ 67%] \u001b[32mBuilding CXX object _deps/highway-build/CMakeFiles/hwy_contrib.dir/hwy/contrib/sort/vqsort_f64d.cc.o\u001b[0m\r\n",
      "/usr/bin/cmake: /opt/conda/lib/libcurl.so.4: no version information available (required by /usr/bin/cmake)\r\n",
      "[ 67%] \u001b[32mBuilding CXX object _deps/highway-build/CMakeFiles/hwy_contrib.dir/hwy/contrib/sort/vqsort_i16a.cc.o\u001b[0m\r\n",
      "/usr/bin/cmake: /opt/conda/lib/libcurl.so.4: no version information available (required by /usr/bin/cmake)\r\n",
      "[ 71%] \u001b[32mBuilding CXX object _deps/highway-build/CMakeFiles/hwy_contrib.dir/hwy/contrib/sort/vqsort_i16d.cc.o\u001b[0m\r\n",
      "/usr/bin/cmake: /opt/conda/lib/libcurl.so.4: no version information available (required by /usr/bin/cmake)\r\n",
      "[ 71%] \u001b[32mBuilding CXX object _deps/highway-build/CMakeFiles/hwy_contrib.dir/hwy/contrib/sort/vqsort_i32a.cc.o\u001b[0m\r\n",
      "/usr/bin/cmake: /opt/conda/lib/libcurl.so.4: no version information available (required by /usr/bin/cmake)\r\n",
      "[ 71%] \u001b[32mBuilding CXX object _deps/highway-build/CMakeFiles/hwy_contrib.dir/hwy/contrib/sort/vqsort_i32d.cc.o\u001b[0m\r\n",
      "/usr/bin/cmake: /opt/conda/lib/libcurl.so.4: no version information available (required by /usr/bin/cmake)\r\n",
      "[ 75%] \u001b[32mBuilding CXX object _deps/highway-build/CMakeFiles/hwy_contrib.dir/hwy/contrib/sort/vqsort_i64a.cc.o\u001b[0m\r\n",
      "/usr/bin/cmake: /opt/conda/lib/libcurl.so.4: no version information available (required by /usr/bin/cmake)\r\n",
      "[ 75%] \u001b[32mBuilding CXX object _deps/highway-build/CMakeFiles/hwy_contrib.dir/hwy/contrib/sort/vqsort_i64d.cc.o\u001b[0m\r\n",
      "/usr/bin/cmake: /opt/conda/lib/libcurl.so.4: no version information available (required by /usr/bin/cmake)\r\n",
      "[ 75%] \u001b[32mBuilding CXX object _deps/highway-build/CMakeFiles/hwy_contrib.dir/hwy/contrib/sort/vqsort_kv128a.cc.o\u001b[0m\r\n",
      "/usr/bin/cmake: /opt/conda/lib/libcurl.so.4: no version information available (required by /usr/bin/cmake)\r\n",
      "[ 78%] \u001b[32mBuilding CXX object _deps/highway-build/CMakeFiles/hwy_contrib.dir/hwy/contrib/sort/vqsort_kv128d.cc.o\u001b[0m\r\n",
      "/usr/bin/cmake: /opt/conda/lib/libcurl.so.4: no version information available (required by /usr/bin/cmake)\r\n",
      "[ 78%] \u001b[32mBuilding CXX object _deps/highway-build/CMakeFiles/hwy_contrib.dir/hwy/contrib/sort/vqsort_kv64a.cc.o\u001b[0m\r\n",
      "/usr/bin/cmake: /opt/conda/lib/libcurl.so.4: no version information available (required by /usr/bin/cmake)\r\n",
      "[ 78%] \u001b[32mBuilding CXX object _deps/highway-build/CMakeFiles/hwy_contrib.dir/hwy/contrib/sort/vqsort_kv64d.cc.o\u001b[0m\r\n",
      "/usr/bin/cmake: /opt/conda/lib/libcurl.so.4: no version information available (required by /usr/bin/cmake)\r\n",
      "[ 82%] \u001b[32mBuilding CXX object _deps/highway-build/CMakeFiles/hwy_contrib.dir/hwy/contrib/sort/vqsort_u16a.cc.o\u001b[0m\r\n",
      "/usr/bin/cmake: /opt/conda/lib/libcurl.so.4: no version information available (required by /usr/bin/cmake)\r\n",
      "[ 82%] \u001b[32mBuilding CXX object _deps/highway-build/CMakeFiles/hwy_contrib.dir/hwy/contrib/sort/vqsort_u16d.cc.o\u001b[0m\r\n",
      "/usr/bin/cmake: /opt/conda/lib/libcurl.so.4: no version information available (required by /usr/bin/cmake)\r\n",
      "[ 82%] \u001b[32mBuilding CXX object _deps/highway-build/CMakeFiles/hwy_contrib.dir/hwy/contrib/sort/vqsort_u32a.cc.o\u001b[0m\r\n",
      "/usr/bin/cmake: /opt/conda/lib/libcurl.so.4: no version information available (required by /usr/bin/cmake)\r\n",
      "[ 85%] \u001b[32mBuilding CXX object _deps/highway-build/CMakeFiles/hwy_contrib.dir/hwy/contrib/sort/vqsort_u32d.cc.o\u001b[0m\r\n",
      "/usr/bin/cmake: /opt/conda/lib/libcurl.so.4: no version information available (required by /usr/bin/cmake)\r\n",
      "[ 85%] \u001b[32mBuilding CXX object _deps/highway-build/CMakeFiles/hwy_contrib.dir/hwy/contrib/sort/vqsort_u64a.cc.o\u001b[0m\r\n",
      "/usr/bin/cmake: /opt/conda/lib/libcurl.so.4: no version information available (required by /usr/bin/cmake)\r\n",
      "[ 85%] \u001b[32mBuilding CXX object _deps/highway-build/CMakeFiles/hwy_contrib.dir/hwy/contrib/sort/vqsort_u64d.cc.o\u001b[0m\r\n",
      "/usr/bin/cmake: /opt/conda/lib/libcurl.so.4: no version information available (required by /usr/bin/cmake)\r\n",
      "[ 89%] \u001b[32mBuilding CXX object _deps/highway-build/CMakeFiles/hwy_contrib.dir/hwy/contrib/image/image.cc.o\u001b[0m\r\n",
      "/usr/bin/cmake: /opt/conda/lib/libcurl.so.4: no version information available (required by /usr/bin/cmake)\r\n",
      "[ 89%] \u001b[32mBuilding CXX object _deps/highway-build/CMakeFiles/hwy_contrib.dir/hwy/contrib/sort/vqsort.cc.o\u001b[0m\r\n",
      "/usr/bin/cmake: /opt/conda/lib/libcurl.so.4: no version information available (required by /usr/bin/cmake)\r\n",
      "[ 89%] \u001b[32m\u001b[1mLinking CXX static library libhwy_contrib.a\u001b[0m\r\n",
      "/usr/bin/cmake: /opt/conda/lib/libcurl.so.4: no version information available (required by /usr/bin/cmake)\r\n",
      "/usr/bin/cmake: /opt/conda/lib/libcurl.so.4: no version information available (required by /usr/bin/cmake)\r\n",
      "/usr/bin/cmake: /opt/conda/lib/libcurl.so.4: no version information available (required by /usr/bin/cmake)\r\n",
      "[ 89%] Built target hwy_contrib\r\n",
      "/usr/bin/cmake: /opt/conda/lib/libcurl.so.4: no version information available (required by /usr/bin/cmake)\r\n",
      "\u001b[35m\u001b[1mScanning dependencies of target libgemma\u001b[0m\r\n",
      "/usr/bin/cmake: /opt/conda/lib/libcurl.so.4: no version information available (required by /usr/bin/cmake)\r\n",
      "/usr/bin/cmake: /opt/conda/lib/libcurl.so.4: no version information available (required by /usr/bin/cmake)\r\n",
      "[ 92%] \u001b[32mBuilding CXX object _deps/gemma-build/CMakeFiles/libgemma.dir/compression/blob_store.cc.o\u001b[0m\r\n",
      "[ 92%] \u001b[32mBuilding CXX object _deps/gemma-build/CMakeFiles/libgemma.dir/gemma/gemma.cc.o\u001b[0m\r\n",
      "/usr/bin/cmake: /opt/conda/lib/libcurl.so.4: no version information available (required by /usr/bin/cmake)\r\n",
      "[ 92%] \u001b[32m\u001b[1mLinking CXX static library libgemma.a\u001b[0m\r\n",
      "/usr/bin/cmake: /opt/conda/lib/libcurl.so.4: no version information available (required by /usr/bin/cmake)\r\n",
      "/usr/bin/cmake: /opt/conda/lib/libcurl.so.4: no version information available (required by /usr/bin/cmake)\r\n",
      "/usr/bin/cmake: /opt/conda/lib/libcurl.so.4: no version information available (required by /usr/bin/cmake)\r\n",
      "[ 92%] Built target libgemma\r\n",
      "/usr/bin/cmake: /opt/conda/lib/libcurl.so.4: no version information available (required by /usr/bin/cmake)\r\n",
      "\u001b[35m\u001b[1mScanning dependencies of target cgemma\u001b[0m\r\n",
      "/usr/bin/cmake: /opt/conda/lib/libcurl.so.4: no version information available (required by /usr/bin/cmake)\r\n",
      "/usr/bin/cmake: /opt/conda/lib/libcurl.so.4: no version information available (required by /usr/bin/cmake)\r\n",
      "/usr/bin/cmake: /opt/conda/lib/libcurl.so.4: no version information available (required by /usr/bin/cmake)\r\n",
      "/usr/bin/cmake: /opt/conda/lib/libcurl.so.4: no version information available (required by /usr/bin/cmake)\r\n",
      "[ 92%] \u001b[32mBuilding CXX object src/CMakeFiles/cgemma.dir/cgemma.cpp.o\u001b[0m\r\n",
      "[ 92%] \u001b[32mBuilding CXX object src/CMakeFiles/cgemma.dir/session.cpp.o\u001b[0m\r\n",
      "[ 92%] \u001b[32mBuilding CXX object src/CMakeFiles/cgemma.dir/scheduler.cpp.o\u001b[0m\r\n",
      "[ 96%] \u001b[32mBuilding CXX object src/CMakeFiles/cgemma.dir/instance.cpp.o\u001b[0m\r\n",
      "/usr/bin/cmake: /opt/conda/lib/libcurl.so.4: no version information available (required by /usr/bin/cmake)\r\n",
      "[100%] \u001b[32mBuilding CXX object src/CMakeFiles/cgemma.dir/utils/file_io.cpp.o\u001b[0m\r\n",
      "/usr/bin/cmake: /opt/conda/lib/libcurl.so.4: no version information available (required by /usr/bin/cmake)\r\n",
      "[100%] \u001b[32m\u001b[1mLinking CXX shared module cgemma.so\u001b[0m\r\n",
      "/usr/bin/cmake: /opt/conda/lib/libcurl.so.4: no version information available (required by /usr/bin/cmake)\r\n",
      "/usr/bin/cmake: /opt/conda/lib/libcurl.so.4: no version information available (required by /usr/bin/cmake)\r\n",
      "[100%] Built target cgemma\r\n",
      "/usr/bin/cmake: /opt/conda/lib/libcurl.so.4: no version information available (required by /usr/bin/cmake)\r\n",
      "/usr/bin/cmake: /opt/conda/lib/libcurl.so.4: no version information available (required by /usr/bin/cmake)\r\n",
      "/usr/bin/cmake: /opt/conda/lib/libcurl.so.4: no version information available (required by /usr/bin/cmake)\r\n",
      "/usr/bin/cmake: /opt/conda/lib/libcurl.so.4: no version information available (required by /usr/bin/cmake)\r\n",
      "/usr/bin/cmake: /opt/conda/lib/libcurl.so.4: no version information available (required by /usr/bin/cmake)\r\n",
      "[ 50%] Built target sentencepiece\r\n",
      "/usr/bin/cmake: /opt/conda/lib/libcurl.so.4: no version information available (required by /usr/bin/cmake)\r\n",
      "/usr/bin/cmake: /opt/conda/lib/libcurl.so.4: no version information available (required by /usr/bin/cmake)\r\n",
      "[ 57%] Built target hwy\r\n",
      "/usr/bin/cmake: /opt/conda/lib/libcurl.so.4: no version information available (required by /usr/bin/cmake)\r\n",
      "/usr/bin/cmake: /opt/conda/lib/libcurl.so.4: no version information available (required by /usr/bin/cmake)\r\n",
      "[ 89%] Built target hwy_contrib\r\n",
      "/usr/bin/cmake: /opt/conda/lib/libcurl.so.4: no version information available (required by /usr/bin/cmake)\r\n",
      "/usr/bin/cmake: /opt/conda/lib/libcurl.so.4: no version information available (required by /usr/bin/cmake)\r\n",
      "[ 92%] Built target libgemma\r\n",
      "/usr/bin/cmake: /opt/conda/lib/libcurl.so.4: no version information available (required by /usr/bin/cmake)\r\n",
      "/usr/bin/cmake: /opt/conda/lib/libcurl.so.4: no version information available (required by /usr/bin/cmake)\r\n",
      "[100%] Built target cgemma\r\n",
      "/usr/bin/cmake: /opt/conda/lib/libcurl.so.4: no version information available (required by /usr/bin/cmake)\r\n",
      "/usr/bin/cmake: /opt/conda/lib/libcurl.so.4: no version information available (required by /usr/bin/cmake)\r\n",
      "\u001b[36mInstall the project...\u001b[0m\r\n",
      "/usr/bin/cmake: /opt/conda/lib/libcurl.so.4: no version information available (required by /usr/bin/cmake)\r\n",
      "-- Install configuration: \"Release\"\r\n",
      "-- Installing: /usr/local/openresty/luajit/lib/lua/5.1/cgemma.so\r\n",
      "-- Set runtime path of \"/usr/local/openresty/luajit/lib/lua/5.1/cgemma.so\" to \"\"\r\n",
      "-- Installing: /usr/local/lib/libsentencepiece.so.0.0.0\r\n",
      "-- Installing: /usr/local/lib/libsentencepiece.so.0\r\n",
      "-- Installing: /usr/local/lib/libsentencepiece.so\r\n"
     ]
    }
   ],
   "source": [
    "!mkdir -p lua-cgemma/build\n",
    "os.chdir(\"/opt/lua-cgemma/build\")\n",
    "!cmake -DCMAKE_BUILD_TYPE=\"Release\" -DCMAKE_CXX_FLAGS=\"-DGEMMA_TOPK=5\" .. && make -j4 && make install"
   ]
  },
  {
   "cell_type": "markdown",
   "id": "c05dcf27",
   "metadata": {
    "papermill": {
     "duration": 0.033176,
     "end_time": "2024-04-12T14:07:30.482111",
     "exception": false,
     "start_time": "2024-04-12T14:07:30.448935",
     "status": "completed"
    },
    "tags": []
   },
   "source": [
    "**3rd step:** Test whether the module is installed correctly:"
   ]
  },
  {
   "cell_type": "code",
   "execution_count": 6,
   "id": "05f3b5d6",
   "metadata": {
    "execution": {
     "iopub.execute_input": "2024-04-12T14:07:30.552380Z",
     "iopub.status.busy": "2024-04-12T14:07:30.551862Z",
     "iopub.status.idle": "2024-04-12T14:07:31.733906Z",
     "shell.execute_reply": "2024-04-12T14:07:31.732379Z"
    },
    "papermill": {
     "duration": 1.221233,
     "end_time": "2024-04-12T14:07:31.737150",
     "exception": false,
     "start_time": "2024-04-12T14:07:30.515917",
     "status": "completed"
    },
    "tags": []
   },
   "outputs": [
    {
     "name": "stdout",
     "output_type": "stream",
     "text": [
      "\r\n",
      "    __\r\n",
      "   / /_  ______ _      _________ ____  ____ ___  ____ ___  ____ _\r\n",
      "  / / / / / __ `/_____/ ___/ __ `/ _ \\/ __ `__ \\/ __ `__ \\/ __ `/\r\n",
      " / / /_/ / /_/ /_____/ /__/ /_/ /  __/ / / / / / / / / / / /_/ /\r\n",
      "/_/\\__,_/\\__,_/      \\___/\\__, /\\___/_/ /_/ /_/_/ /_/ /_/\\__,_/\r\n",
      "                         /____/\r\n",
      "\r\n",
      "Date & Time                                : 2024-04-12 14:07:31\r\n",
      "Max Sequence Length                        : 4096\r\n",
      "Top-K                                      : 5\r\n",
      "Weight Type                                : SFP\r\n",
      "Embedder Input Type                        : b16\r\n",
      "Prefill Token Batch Size                   : 16\r\n",
      "Hardware Concurrency                       : 4\r\n",
      "Instruction Set                            : AVX2 (256 bits)\r\n",
      "Compiled Config                            : opt\r\n",
      "\r\n"
     ]
    }
   ],
   "source": [
    "!resty -e 'require(\"cgemma\").info()'"
   ]
  },
  {
   "cell_type": "markdown",
   "id": "ea779ee7",
   "metadata": {
    "papermill": {
     "duration": 0.034157,
     "end_time": "2024-04-12T14:07:31.806190",
     "exception": false,
     "start_time": "2024-04-12T14:07:31.772033",
     "status": "completed"
    },
    "tags": []
   },
   "source": [
    "# Launch AI Assistant Service"
   ]
  },
  {
   "cell_type": "code",
   "execution_count": 7,
   "id": "a3393379",
   "metadata": {
    "_kg_hide-input": true,
    "execution": {
     "iopub.execute_input": "2024-04-12T14:07:31.879623Z",
     "iopub.status.busy": "2024-04-12T14:07:31.878831Z",
     "iopub.status.idle": "2024-04-12T14:07:31.884183Z",
     "shell.execute_reply": "2024-04-12T14:07:31.883170Z"
    },
    "papermill": {
     "duration": 0.046293,
     "end_time": "2024-04-12T14:07:31.886577",
     "exception": false,
     "start_time": "2024-04-12T14:07:31.840284",
     "status": "completed"
    },
    "tags": []
   },
   "outputs": [],
   "source": [
    "import os\n",
    "os.chdir(\"/opt\")"
   ]
  },
  {
   "cell_type": "markdown",
   "id": "c8929314",
   "metadata": {
    "papermill": {
     "duration": 0.034504,
     "end_time": "2024-04-12T14:07:31.956101",
     "exception": false,
     "start_time": "2024-04-12T14:07:31.921597",
     "status": "completed"
    },
    "tags": []
   },
   "source": [
    "**1st step:** Clone configuration and data files from [GitHub](https://github.com/ufownl/ai-assistant-for-data-science-beginners): "
   ]
  },
  {
   "cell_type": "code",
   "execution_count": 8,
   "id": "ea2f64ca",
   "metadata": {
    "_kg_hide-output": true,
    "execution": {
     "iopub.execute_input": "2024-04-12T14:07:32.026972Z",
     "iopub.status.busy": "2024-04-12T14:07:32.026221Z",
     "iopub.status.idle": "2024-04-12T14:07:33.616361Z",
     "shell.execute_reply": "2024-04-12T14:07:33.614808Z"
    },
    "papermill": {
     "duration": 1.629176,
     "end_time": "2024-04-12T14:07:33.619683",
     "exception": false,
     "start_time": "2024-04-12T14:07:31.990507",
     "status": "completed"
    },
    "tags": []
   },
   "outputs": [
    {
     "name": "stdout",
     "output_type": "stream",
     "text": [
      "Cloning into 'ai-assistant-for-data-science-beginners'...\r\n",
      "remote: Enumerating objects: 18, done.\u001b[K\r\n",
      "remote: Counting objects: 100% (18/18), done.\u001b[K\r\n",
      "remote: Compressing objects: 100% (15/15), done.\u001b[K\r\n",
      "remote: Total 18 (delta 0), reused 18 (delta 0), pack-reused 0\u001b[K\r\n",
      "Unpacking objects: 100% (18/18), 38.73 KiB | 357.00 KiB/s, done.\r\n"
     ]
    }
   ],
   "source": [
    "!git clone https://github.com/ufownl/ai-assistant-for-data-science-beginners.git"
   ]
  },
  {
   "cell_type": "markdown",
   "id": "30d5dc31",
   "metadata": {
    "papermill": {
     "duration": 0.035847,
     "end_time": "2024-04-12T14:07:33.690002",
     "exception": false,
     "start_time": "2024-04-12T14:07:33.654155",
     "status": "completed"
    },
    "tags": []
   },
   "source": [
    "**2nd step:** Link weights file:"
   ]
  },
  {
   "cell_type": "code",
   "execution_count": 9,
   "id": "b0601d08",
   "metadata": {
    "execution": {
     "iopub.execute_input": "2024-04-12T14:07:33.762526Z",
     "iopub.status.busy": "2024-04-12T14:07:33.762045Z",
     "iopub.status.idle": "2024-04-12T14:07:35.966656Z",
     "shell.execute_reply": "2024-04-12T14:07:35.964792Z"
    },
    "papermill": {
     "duration": 2.245399,
     "end_time": "2024-04-12T14:07:35.969962",
     "exception": false,
     "start_time": "2024-04-12T14:07:33.724563",
     "status": "completed"
    },
    "tags": []
   },
   "outputs": [],
   "source": [
    "os.chdir(\"/opt/ai-assistant-for-data-science-beginners\")\n",
    "!ln -s -f /kaggle/input/gemma/gemmacpp/1.1-2b-it-sfp/1/2b-it-sfp.sbs\n",
    "!ln -s -f /kaggle/input/gemma/gemmacpp/1.1-2b-it-sfp/1/tokenizer.spm"
   ]
  },
  {
   "cell_type": "markdown",
   "id": "19ac9cc6",
   "metadata": {
    "papermill": {
     "duration": 0.034935,
     "end_time": "2024-04-12T14:07:36.040270",
     "exception": false,
     "start_time": "2024-04-12T14:07:36.005335",
     "status": "completed"
    },
    "tags": []
   },
   "source": [
    "**3rd step:** Generate prompt context:"
   ]
  },
  {
   "cell_type": "code",
   "execution_count": 10,
   "id": "82dd8bf1",
   "metadata": {
    "execution": {
     "iopub.execute_input": "2024-04-12T14:07:36.111683Z",
     "iopub.status.busy": "2024-04-12T14:07:36.111075Z",
     "iopub.status.idle": "2024-04-12T14:18:39.414965Z",
     "shell.execute_reply": "2024-04-12T14:18:39.413078Z"
    },
    "papermill": {
     "duration": 663.343577,
     "end_time": "2024-04-12T14:18:39.418232",
     "exception": false,
     "start_time": "2024-04-12T14:07:36.074655",
     "status": "completed"
    },
    "tags": []
   },
   "outputs": [
    {
     "name": "stdout",
     "output_type": "stream",
     "text": [
      "Loading model ...\r\n",
      "Random seed of session: 2152871024\r\n",
      "Reading prompt ...\r\n",
      "\r\n",
      "Done! Session states of the prompt have been dumped to \"dump.bin\"\r\n",
      "-rw-r--r-- 1 root root 86M Apr 12 14:18 dump.bin\r\n"
     ]
    }
   ],
   "source": [
    "!resty print_prompt.lua | resty /opt/lua-cgemma/examples/cache_prompt.lua\n",
    "!ls -lh dump.bin"
   ]
  },
  {
   "cell_type": "markdown",
   "id": "c1ccc257",
   "metadata": {
    "papermill": {
     "duration": 0.053133,
     "end_time": "2024-04-12T14:18:39.525020",
     "exception": false,
     "start_time": "2024-04-12T14:18:39.471887",
     "status": "completed"
    },
    "tags": []
   },
   "source": [
    "*Note: `dump.bin` is the cached state of the context prompts, it could be saved somewhere without regenerating it every time.*"
   ]
  },
  {
   "cell_type": "markdown",
   "id": "894cfb89",
   "metadata": {
    "papermill": {
     "duration": 0.052131,
     "end_time": "2024-04-12T14:18:39.629959",
     "exception": false,
     "start_time": "2024-04-12T14:18:39.577828",
     "status": "completed"
    },
    "tags": []
   },
   "source": [
    "**4th step:** Launch assistant service:"
   ]
  },
  {
   "cell_type": "code",
   "execution_count": 11,
   "id": "8643d69e",
   "metadata": {
    "execution": {
     "iopub.execute_input": "2024-04-12T14:18:39.737425Z",
     "iopub.status.busy": "2024-04-12T14:18:39.736534Z",
     "iopub.status.idle": "2024-04-12T14:18:40.847602Z",
     "shell.execute_reply": "2024-04-12T14:18:40.846071Z"
    },
    "papermill": {
     "duration": 1.16838,
     "end_time": "2024-04-12T14:18:40.850848",
     "exception": false,
     "start_time": "2024-04-12T14:18:39.682468",
     "status": "completed"
    },
    "tags": []
   },
   "outputs": [],
   "source": [
    "!openresty -p . -c assistant.conf"
   ]
  },
  {
   "cell_type": "markdown",
   "id": "9cfd1aaa",
   "metadata": {
    "papermill": {
     "duration": 0.053041,
     "end_time": "2024-04-12T14:18:40.956716",
     "exception": false,
     "start_time": "2024-04-12T14:18:40.903675",
     "status": "completed"
    },
    "tags": []
   },
   "source": [
    "# Chat to AI Assistant\n",
    "\n",
    "Running this notebook in interactive mode lets you chat with the AI assistant yourself. Or you can follow the instructions in this notebook to install and launch this AI assistant service on your computer, then open [http://localhost:8042](http://localhost:8042) with your browser to chat with the AI assistant."
   ]
  },
  {
   "cell_type": "code",
   "execution_count": 12,
   "id": "1e5b7061",
   "metadata": {
    "_kg_hide-input": true,
    "execution": {
     "iopub.execute_input": "2024-04-12T14:18:41.067805Z",
     "iopub.status.busy": "2024-04-12T14:18:41.067270Z",
     "iopub.status.idle": "2024-04-12T14:18:41.077946Z",
     "shell.execute_reply": "2024-04-12T14:18:41.076646Z"
    },
    "papermill": {
     "duration": 0.070239,
     "end_time": "2024-04-12T14:18:41.080374",
     "exception": false,
     "start_time": "2024-04-12T14:18:41.010135",
     "status": "completed"
    },
    "tags": []
   },
   "outputs": [],
   "source": [
    "# Define the prompter input\n",
    "\n",
    "class Prompter:\n",
    "    __dummy_input = [\n",
    "        \"Hi, Gemma!\",\n",
    "        \"What mathematical concepts should I learn?\",\n",
    "        \"Tell me the most popular programming languages used in data science.\",\n",
    "        \"\"\n",
    "    ]\n",
    "    \n",
    "    def __init__(self):\n",
    "        self.__turn = 0\n",
    "        self.__interactive = os.environ.get(\"KAGGLE_KERNEL_RUN_TYPE\") == \"Interactive\"\n",
    "        \n",
    "    def __call__(self):\n",
    "        if self.__interactive:\n",
    "            self.__turn += 1\n",
    "            return input(\"you:\")\n",
    "        else:\n",
    "            dummy = self.__dummy_input[self.__turn]\n",
    "            self.__turn += 1\n",
    "            print(\"you: \", end=\"\")\n",
    "            print(dummy, flush=True)\n",
    "            return dummy"
   ]
  },
  {
   "cell_type": "code",
   "execution_count": 13,
   "id": "0ba34e6a",
   "metadata": {
    "execution": {
     "iopub.execute_input": "2024-04-12T14:18:41.188265Z",
     "iopub.status.busy": "2024-04-12T14:18:41.187795Z",
     "iopub.status.idle": "2024-04-12T14:26:31.880005Z",
     "shell.execute_reply": "2024-04-12T14:26:31.877935Z"
    },
    "papermill": {
     "duration": 470.751187,
     "end_time": "2024-04-12T14:26:31.884050",
     "exception": false,
     "start_time": "2024-04-12T14:18:41.132863",
     "status": "completed"
    },
    "tags": []
   },
   "outputs": [
    {
     "name": "stdout",
     "output_type": "stream",
     "text": [
      "system: New session started! Random seed of current session: 1270750910\n",
      "you: Hi, Gemma!\n",
      "gemma: **Congratulations on your interest in learning data science!**\n",
      "\n",
      "**Here are some tips to help you become a successful data scientist:**\n",
      "\n",
      "**1. Foundational Knowledge:**\n",
      "\n",
      "- Master the basics of statistics, probability, and data analysis.\n",
      "- Learn the fundamentals of machine learning algorithms and techniques.\n",
      "- Understand data wrangling, database management, and cloud computing.\n",
      "\n",
      "**2. Programming Skills:**\n",
      "\n",
      "- Learn a popular programming language like Python or R.\n",
      "- Practice coding and building simple data science applications.\n",
      "- Explore data analysis tools and visualization libraries.\n",
      "\n",
      "**3. Data Analysis and Storytelling:**\n",
      "\n",
      "- Learn how to analyze data using various methods.\n",
      "- Develop effective storytelling techniques to communicate your findings.\n",
      "- Create data visualizations that effectively communicate insights.\n",
      "\n",
      "**4. Industry Knowledge:**\n",
      "\n",
      "- Stay updated with the latest advancements in data science.\n",
      "- Explore emerging technologies and industries using data-driven approaches.\n",
      "- Network with other data professionals to broaden your understanding.\n",
      "\n",
      "**5. Professional Skills:**\n",
      "\n",
      "- Develop strong communication and interpersonal skills.\n",
      "- Learn to work collaboratively in teams.\n",
      "- Build your portfolio with impressive data science projects.\n",
      "\n",
      "**6. Continuous Learning:**\n",
      "\n",
      "- Attend conferences, read industry publications, and follow thought leaders.\n",
      "- Participate in online communities and forums.\n",
      "- Stay current with the latest advancements in data science.\n",
      "\n",
      "**7. Project Experience:**\n",
      "\n",
      "- Build your own data science projects to apply your knowledge and skills.\n",
      "- Showcase your projects on your resume and portfolio.\n",
      "- Gain practical experience that demonstrates your expertise.\n",
      "\n",
      "**8. Network Building:**\n",
      "\n",
      "- Attend industry events and conferences.\n",
      "- Join data science communities and professional organizations.\n",
      "- Connect with other data professionals on social media.\n",
      "\n",
      "**9. Certifications:**\n",
      "\n",
      "- Consider obtaining certifications in data science to enhance your credentials.\n",
      "- Certifications demonstrate your expertise and professional commitment.\n",
      "\n",
      "**10. Practice:**\n",
      "\n",
      "- The key to becoming a skilled data scientist is consistent practice.\n",
      "- Build your coding skills, analyze large datasets, and create compelling data visualizations.\n",
      "\n",
      "**Remember:**\n",
      "\n",
      "- Data science is a rapidly evolving field.\n",
      "- Persistence and a willingness to learn are essential.\n",
      "- Networking and building connections are crucial for career growth.\n",
      "you: What mathematical concepts should I learn?\n",
      "gemma: **Mathematical Concepts to Learn for Data Science:**\n",
      "\n",
      "**Statistics:**\n",
      "\n",
      "- Mean, median, and mode\n",
      "- Standard deviation, variance, and covariance\n",
      "- Probability distributions (normal, binomial, Poisson, etc.)\n",
      "- Hypothesis testing\n",
      "- Regression analysis\n",
      "- Statistical inference\n",
      "\n",
      "**Probability and Inference:**\n",
      "\n",
      "- Bayes’ theorem\n",
      "- Conditional probability\n",
      "- Bayesian networks\n",
      "- Hypothesis testing\n",
      "- Confidence intervals\n",
      "\n",
      "**Linear Algebra:**\n",
      "\n",
      "- Vectors and matrices\n",
      "- Linear transformations\n",
      "- Eigenvalues and eigenvectors\n",
      "- Singular value decomposition\n",
      "\n",
      "**Calculus:**\n",
      "\n",
      "- Differentiation and integration\n",
      "- Optimization techniques\n",
      "- Numerical methods\n",
      "\n",
      "**Other Concepts:**\n",
      "\n",
      "- Data wrangling and cleaning\n",
      "- Data visualization\n",
      "- Machine learning algorithms\n",
      "- Deep learning concepts\n",
      "\n",
      "**Specific Skills:**\n",
      "\n",
      "- Statistical programming in Python or R\n",
      "- Machine learning libraries (Scikit-learn, TensorFlow, PyTorch)\n",
      "- Data analysis and modeling\n",
      "\n",
      "**Additional Tips:**\n",
      "\n",
      "- Start with online resources and tutorials.\n",
      "- Use textbooks and online courses to supplement your knowledge.\n",
      "- Practice by working on real-world projects.\n",
      "- Network and connect with other data scientists.\n",
      "\n",
      "**Resources:**\n",
      "\n",
      "- Khan Academy Statistics Course\n",
      "- DataCamp Probability and Statistics Course\n",
      "- Coursera Machine Learning Specialization\n",
      "- Scikit-learn Documentation\n",
      "you: Tell me the most popular programming languages used in data science.\n",
      "gemma: **Most Popular Programming Languages Used in Data Science:**\n",
      "\n",
      "**1. Python:**\n",
      "- Widely used for data analysis, machine learning, and data visualization.\n",
      "- Simple and easy to learn.\n",
      "- Extensive libraries and frameworks.\n",
      "\n",
      "**2. R:**\n",
      "- Primarily used for statistical analysis, data visualization, and graphics.\n",
      "- Powerful statistical functions and packages.\n",
      "- Strong focus on data visualization.\n",
      "\n",
      "**3. SQL:**\n",
      "- Essential for working with databases.\n",
      "- Structured query language for data retrieval and manipulation.\n",
      "- Widely used in industry and academia.\n",
      "\n",
      "**4. Java:**\n",
      "- Robust and widely used for enterprise applications.\n",
      "- Supports object-oriented programming and data structures.\n",
      "- Used in big data systems and distributed computing.\n",
      "\n",
      "**5. JavaScript:**\n",
      "- Essential for web development and data visualization.\n",
      "- Used in data-driven applications and dashboards.\n",
      "\n",
      "**6. C++:**\n",
      "- Powerful and efficient language for high-performance computing.\n",
      "- Used in scientific computing and large-scale data processing.\n",
      "\n",
      "**7. Scala:**\n",
      "- Object-oriented language with a focus on concurrency.\n",
      "- Used in distributed data processing frameworks.\n",
      "\n",
      "**8. R Language:**\n",
      "- Widely used for data science, statistical analysis, and graphics.\n",
      "- Powerful statistical functions and packages.\n",
      "\n",
      "**9. Apache Spark:**\n",
      "- Open-source framework for distributed data processing.\n",
      "- Used for large-scale data analysis and machine learning.\n",
      "\n",
      "**10. TensorFlow:**\n",
      "- Open-source framework for building machine learning models.\n",
      "- Provides efficient and scalable computing.\n",
      "you: \n"
     ]
    }
   ],
   "source": [
    "import json\n",
    "from websockets.sync.client import connect\n",
    "\n",
    "# Connect to Server and Chat with AI Assistant\n",
    "with connect(\"ws://localhost:8042/cgemma/session\") as ws:\n",
    "    you = Prompter()\n",
    "    loading = \"-\\\\|/\"\n",
    "    while True:\n",
    "        text = None\n",
    "        msg = json.loads(ws.recv())\n",
    "        if \"text\" in msg:\n",
    "            print(msg[\"role\"], end=\": \")\n",
    "            print(msg[\"text\"], flush=True)\n",
    "            text = you()\n",
    "        elif msg[\"pos\"] < msg[\"prompt_size\"]:\n",
    "            print(msg[\"role\"], end=\": \")\n",
    "            print(loading[msg[\"pos\"] % len(loading)], end=\"\\r\", flush=True)\n",
    "        else:\n",
    "            if msg[\"pos\"] == msg[\"prompt_size\"]:\n",
    "                print(msg[\"role\"], end=\": \")\n",
    "            if \"token\" in msg:\n",
    "                print(msg[\"token\"], end=\"\", flush=True)\n",
    "            else:\n",
    "                print(\"\", flush=True)\n",
    "                text = you()\n",
    "        if not text is None:\n",
    "            if text:\n",
    "                ws.send(json.dumps({\n",
    "                    \"role\": \"user\",\n",
    "                    \"text\": text\n",
    "                }))\n",
    "            else:\n",
    "                break"
   ]
  }
 ],
 "metadata": {
  "kaggle": {
   "accelerator": "none",
   "dataSources": [
    {
     "databundleVersionId": 7669720,
     "sourceId": 64148,
     "sourceType": "competition"
    },
    {
     "isSourceIdPinned": true,
     "modelInstanceId": 22008,
     "sourceId": 26145,
     "sourceType": "modelInstanceVersion"
    }
   ],
   "dockerImageVersionId": 30684,
   "isGpuEnabled": false,
   "isInternetEnabled": true,
   "language": "python",
   "sourceType": "notebook"
  },
  "kernelspec": {
   "display_name": "Python 3",
   "language": "python",
   "name": "python3"
  },
  "language_info": {
   "codemirror_mode": {
    "name": "ipython",
    "version": 3
   },
   "file_extension": ".py",
   "mimetype": "text/x-python",
   "name": "python",
   "nbconvert_exporter": "python",
   "pygments_lexer": "ipython3",
   "version": "3.10.13"
  },
  "papermill": {
   "default_parameters": {},
   "duration": 1469.903641,
   "end_time": "2024-04-12T14:26:32.579962",
   "environment_variables": {},
   "exception": null,
   "input_path": "__notebook__.ipynb",
   "output_path": "__notebook__.ipynb",
   "parameters": {},
   "start_time": "2024-04-12T14:02:02.676321",
   "version": "2.5.0"
  }
 },
 "nbformat": 4,
 "nbformat_minor": 5
}
