{
 "cells": [
  {
   "cell_type": "markdown",
   "id": "f1cb72b7",
   "metadata": {
    "papermill": {
     "duration": 0.00844,
     "end_time": "2024-04-12T14:59:54.321135",
     "exception": false,
     "start_time": "2024-04-12T14:59:54.312695",
     "status": "completed"
    },
    "tags": []
   },
   "source": [
    "<a href=\"https://kaggle.com/kernels/welcome?src=https://github.com/ufownl/ai-assistant-for-data-science-beginners/blob/main/ai-assistant-for-data-science-beginners.ipynb\"><img src=\"https://img.shields.io/badge/Open_in_Kaggle-blue?style=plastic&logo=kaggle&labelColor=grey\" /></a>\n",
    "<a href=\"https://github.com/ufownl/ai-assistant-for-data-science-beginners/blob/main/ai-assistant-for-data-science-beginners.ipynb\"><img src=\"https://img.shields.io/badge/-View_source_on_GitHub-white?style=plastic&logo=github&labelColor=grey\" /></a>\n",
    "\n",
    "# Introduction\n",
    "\n",
    "This notebook is powered by **[lua-cgemma](https://github.com/ufownl/lua-cgemma)**, a library that provides Lua bindings for **[gemma.cpp](https://github.com/google/gemma.cpp)**, see [README.md](https://github.com/ufownl/lua-cgemma/blob/main/README.md) for more details. Thanks to **[gemma.cpp](https://github.com/google/gemma.cpp)** using **[Google Highway Library](https://github.com/google/highway)** to take advantage of portable SIMD for CPU inference, this notebook can run smoothly on the kernel without any accelerator.\n",
    "\n",
    "*Note: the context prompts of this AI assistant are constructed based on the content of [this post](https://www.springboard.com/blog/data-science/learn-data-science-on-your-own/).*"
   ]
  },
  {
   "cell_type": "markdown",
   "id": "f248fbd4",
   "metadata": {
    "papermill": {
     "duration": 0.007607,
     "end_time": "2024-04-12T14:59:54.336732",
     "exception": false,
     "start_time": "2024-04-12T14:59:54.329125",
     "status": "completed"
    },
    "tags": []
   },
   "source": [
    "# Requirements\n",
    "\n",
    "Before starting, you should have installed:\n",
    "\n",
    "- [CMake](https://cmake.org/)\n",
    "- C++ compiler, supporting at least C++17\n",
    "- [LuaJIT](https://luajit.org/), recommended to install [OpenResty](https://openresty.org/) directly\n",
    "- [websockets](https://websockets.readthedocs.io/), for interacting with AI assistant in Kaggle Notebook"
   ]
  },
  {
   "cell_type": "code",
   "execution_count": 1,
   "id": "d7d2fb93",
   "metadata": {
    "_kg_hide-output": true,
    "execution": {
     "iopub.execute_input": "2024-04-12T14:59:54.354514Z",
     "iopub.status.busy": "2024-04-12T14:59:54.354110Z",
     "iopub.status.idle": "2024-04-12T15:00:10.953080Z",
     "shell.execute_reply": "2024-04-12T15:00:10.951925Z"
    },
    "papermill": {
     "duration": 16.611672,
     "end_time": "2024-04-12T15:00:10.956421",
     "exception": false,
     "start_time": "2024-04-12T14:59:54.344749",
     "status": "completed"
    },
    "tags": []
   },
   "outputs": [
    {
     "name": "stdout",
     "output_type": "stream",
     "text": [
      "--2024-04-12 14:59:55--  https://openresty.org/package/pubkey.gpg\r\n",
      "Resolving openresty.org (openresty.org)... 3.125.51.27, 2a05:d01c:66b:e800:560c:c0ea:4e5:db36, 2a05:d014:808:3600:d7c8:720c:b584:cdeb\r\n",
      "Connecting to openresty.org (openresty.org)|3.125.51.27|:443... connected.\r\n",
      "HTTP request sent, awaiting response... 200 OK\r\n",
      "Length: 1688 (1.6K) [text/plain]\r\n",
      "Saving to: 'STDOUT'\r\n",
      "\r\n",
      "-                   100%[===================>]   1.65K  --.-KB/s    in 0s      \r\n",
      "\r\n",
      "2024-04-12 14:59:55 (178 MB/s) - written to stdout [1688/1688]\r\n",
      "\r\n",
      "OK\r\n",
      "deb http://openresty.org/package/ubuntu focal main\r\n",
      "Get:1 http://openresty.org/package/ubuntu focal InRelease [4720 B]\r\n",
      "Hit:2 http://archive.ubuntu.com/ubuntu focal InRelease\r\n",
      "Get:3 http://archive.ubuntu.com/ubuntu focal-updates InRelease [114 kB]\r\n",
      "Get:4 https://packages.cloud.google.com/apt gcsfuse-focal InRelease [1225 B]\r\n",
      "Get:5 https://packages.cloud.google.com/apt cloud-sdk InRelease [6361 B]\r\n",
      "Hit:6 http://archive.ubuntu.com/ubuntu focal-backports InRelease\r\n",
      "Get:7 http://security.ubuntu.com/ubuntu focal-security InRelease [114 kB]\r\n",
      "Get:8 http://openresty.org/package/ubuntu focal/main amd64 Packages [31.4 kB]\r\n",
      "Get:9 http://archive.ubuntu.com/ubuntu focal-updates/universe amd64 Packages [1492 kB]\r\n",
      "Get:10 http://archive.ubuntu.com/ubuntu focal-updates/restricted amd64 Packages [3639 kB]\r\n",
      "Get:11 http://archive.ubuntu.com/ubuntu focal-updates/multiverse amd64 Packages [32.5 kB]\r\n",
      "Get:12 http://archive.ubuntu.com/ubuntu focal-updates/main amd64 Packages [4023 kB]\r\n",
      "Get:13 http://security.ubuntu.com/ubuntu focal-security/restricted amd64 Packages [3490 kB]\r\n",
      "Get:14 http://security.ubuntu.com/ubuntu focal-security/main amd64 Packages [3547 kB]\r\n",
      "Get:15 http://security.ubuntu.com/ubuntu focal-security/universe amd64 Packages [1195 kB]\r\n",
      "Get:16 http://security.ubuntu.com/ubuntu focal-security/multiverse amd64 Packages [29.8 kB]\r\n",
      "Fetched 17.7 MB in 2s (8097 kB/s)\r\n",
      "\r\n",
      "\r\n",
      "\r\n",
      "58 packages can be upgraded. Run 'apt list --upgradable' to see them.\r\n",
      "\r\n",
      "\r\n",
      "\r\n",
      "The following additional packages will be installed:\r\n",
      "  openresty-openssl111 openresty-opm openresty-pcre openresty-resty\r\n",
      "  openresty-zlib\r\n",
      "Suggested packages:\r\n",
      "  openresty-restydoc\r\n",
      "The following NEW packages will be installed:\r\n",
      "  openresty openresty-openssl111 openresty-opm openresty-pcre openresty-resty\r\n",
      "  openresty-zlib\r\n",
      "0 upgraded, 6 newly installed, 0 to remove and 58 not upgraded.\r\n",
      "Need to get 2920 kB of archives.\r\n",
      "After this operation, 9590 kB of additional disk space will be used.\r\n",
      "Get:1 http://openresty.org/package/ubuntu focal/main amd64 openresty-zlib amd64 1.2.13-1~focal1 [53.1 kB]\r\n",
      "Get:2 http://openresty.org/package/ubuntu focal/main amd64 openresty-openssl111 amd64 1.1.1w-1~focal1 [1489 kB]\r\n",
      "Get:3 http://openresty.org/package/ubuntu focal/main amd64 openresty-pcre amd64 8.45-1~focal1 [161 kB]\r\n",
      "Get:4 http://openresty.org/package/ubuntu focal/main amd64 openresty amd64 1.25.3.1-2~focal1 [1183 kB]\r\n",
      "Get:5 http://openresty.org/package/ubuntu focal/main amd64 openresty-resty all 1.25.3.1-2~focal1 [13.9 kB]\r\n",
      "Get:6 http://openresty.org/package/ubuntu focal/main amd64 openresty-opm amd64 1.25.3.1-2~focal1 [19.4 kB]\r\n",
      "Fetched 2920 kB in 0s (10.7 MB/s)\r\n",
      "\n",
      "\u001b7\u001b[0;23r\u001b8\u001b[1ASelecting previously unselected package openresty-zlib.\r\n",
      "(Reading database ... 110195 files and directories currently installed.)\r\n",
      "Preparing to unpack .../0-openresty-zlib_1.2.13-1~focal1_amd64.deb ...\r\n",
      "\u001b7\u001b[24;0f\u001b[42m\u001b[30mProgress: [  0%]\u001b[49m\u001b[39m [..........................................................] \u001b8\u001b7\u001b[24;0f\u001b[42m\u001b[30mProgress: [  4%]\u001b[49m\u001b[39m [##........................................................] \u001b8Unpacking openresty-zlib (1.2.13-1~focal1) ...\r\n",
      "\u001b7\u001b[24;0f\u001b[42m\u001b[30mProgress: [  8%]\u001b[49m\u001b[39m [####......................................................] \u001b8Selecting previously unselected package openresty-openssl111.\r\n",
      "Preparing to unpack .../1-openresty-openssl111_1.1.1w-1~focal1_amd64.deb ...\r\n",
      "\u001b7\u001b[24;0f\u001b[42m\u001b[30mProgress: [ 12%]\u001b[49m\u001b[39m [######....................................................] \u001b8Unpacking openresty-openssl111 (1.1.1w-1~focal1) ...\r\n",
      "\u001b7\u001b[24;0f\u001b[42m\u001b[30mProgress: [ 16%]\u001b[49m\u001b[39m [#########.................................................] \u001b8Selecting previously unselected package openresty-pcre.\r\n",
      "Preparing to unpack .../2-openresty-pcre_8.45-1~focal1_amd64.deb ...\r\n",
      "\u001b7\u001b[24;0f\u001b[42m\u001b[30mProgress: [ 20%]\u001b[49m\u001b[39m [###########...............................................] \u001b8Unpacking openresty-pcre (8.45-1~focal1) ...\r\n",
      "\u001b7\u001b[24;0f\u001b[42m\u001b[30mProgress: [ 24%]\u001b[49m\u001b[39m [#############.............................................] \u001b8Selecting previously unselected package openresty.\r\n",
      "Preparing to unpack .../3-openresty_1.25.3.1-2~focal1_amd64.deb ...\r\n",
      "\u001b7\u001b[24;0f\u001b[42m\u001b[30mProgress: [ 28%]\u001b[49m\u001b[39m [################..........................................] \u001b8Unpacking openresty (1.25.3.1-2~focal1) ...\r\n",
      "\u001b7\u001b[24;0f\u001b[42m\u001b[30mProgress: [ 32%]\u001b[49m\u001b[39m [##################........................................] \u001b8Selecting previously unselected package openresty-resty.\r\n",
      "Preparing to unpack .../4-openresty-resty_1.25.3.1-2~focal1_all.deb ...\r\n",
      "\u001b7\u001b[24;0f\u001b[42m\u001b[30mProgress: [ 36%]\u001b[49m\u001b[39m [####################......................................] \u001b8Unpacking openresty-resty (1.25.3.1-2~focal1) ...\r\n",
      "\u001b7\u001b[24;0f\u001b[42m\u001b[30mProgress: [ 40%]\u001b[49m\u001b[39m [#######################...................................] \u001b8Selecting previously unselected package openresty-opm.\r\n",
      "Preparing to unpack .../5-openresty-opm_1.25.3.1-2~focal1_amd64.deb ...\r\n",
      "\u001b7\u001b[24;0f\u001b[42m\u001b[30mProgress: [ 44%]\u001b[49m\u001b[39m [#########################.................................] \u001b8Unpacking openresty-opm (1.25.3.1-2~focal1) ...\r\n",
      "\u001b7\u001b[24;0f\u001b[42m\u001b[30mProgress: [ 48%]\u001b[49m\u001b[39m [###########################...............................] \u001b8Setting up openresty-zlib (1.2.13-1~focal1) ...\r\n",
      "\u001b7\u001b[24;0f\u001b[42m\u001b[30mProgress: [ 52%]\u001b[49m\u001b[39m [##############################............................] \u001b8\u001b7\u001b[24;0f\u001b[42m\u001b[30mProgress: [ 56%]\u001b[49m\u001b[39m [################################..........................] \u001b8Setting up openresty-pcre (8.45-1~focal1) ...\r\n",
      "\u001b7\u001b[24;0f\u001b[42m\u001b[30mProgress: [ 60%]\u001b[49m\u001b[39m [##################################........................] \u001b8\u001b7\u001b[24;0f\u001b[42m\u001b[30mProgress: [ 64%]\u001b[49m\u001b[39m [#####################################.....................] \u001b8Setting up openresty-openssl111 (1.1.1w-1~focal1) ...\r\n",
      "\u001b7\u001b[24;0f\u001b[42m\u001b[30mProgress: [ 68%]\u001b[49m\u001b[39m [#######################################...................] \u001b8\u001b7\u001b[24;0f\u001b[42m\u001b[30mProgress: [ 72%]\u001b[49m\u001b[39m [#########################################.................] \u001b8Setting up openresty (1.25.3.1-2~focal1) ...\r\n",
      "\u001b7\u001b[24;0f\u001b[42m\u001b[30mProgress: [ 76%]\u001b[49m\u001b[39m [############################################..............] \u001b8Created symlink /etc/systemd/system/multi-user.target.wants/openresty.service -> /lib/systemd/system/openresty.service.\r\n",
      "invoke-rc.d: could not determine current runlevel\r\n",
      "invoke-rc.d: policy-rc.d denied execution of start.\r\n",
      "\u001b7\u001b[24;0f\u001b[42m\u001b[30mProgress: [ 80%]\u001b[49m\u001b[39m [##############################################............] \u001b8Setting up openresty-resty (1.25.3.1-2~focal1) ...\r\n",
      "\u001b7\u001b[24;0f\u001b[42m\u001b[30mProgress: [ 84%]\u001b[49m\u001b[39m [################################################..........] \u001b8\u001b7\u001b[24;0f\u001b[42m\u001b[30mProgress: [ 88%]\u001b[49m\u001b[39m [###################################################.......] \u001b8Setting up openresty-opm (1.25.3.1-2~focal1) ...\r\n",
      "\u001b7\u001b[24;0f\u001b[42m\u001b[30mProgress: [ 92%]\u001b[49m\u001b[39m [#####################################################.....] \u001b8\u001b7\u001b[24;0f\u001b[42m\u001b[30mProgress: [ 96%]\u001b[49m\u001b[39m [#######################################################...] \u001b8Processing triggers for systemd (245.4-4ubuntu3.22) ...\r\n",
      "Processing triggers for libc-bin (2.31-0ubuntu9.14) ...\r\n",
      "\r\n",
      "\u001b7\u001b[0;24r\u001b8\u001b[1A\u001b[J"
     ]
    }
   ],
   "source": [
    "# Install OpenResty\n",
    "\n",
    "!wget -O - https://openresty.org/package/pubkey.gpg | apt-key add -\n",
    "!echo \"deb http://openresty.org/package/ubuntu $(lsb_release -sc) main\" | tee /etc/apt/sources.list.d/openresty.list\n",
    "!apt update && apt install -y openresty"
   ]
  },
  {
   "cell_type": "code",
   "execution_count": 2,
   "id": "886b95be",
   "metadata": {
    "_kg_hide-output": true,
    "execution": {
     "iopub.execute_input": "2024-04-12T15:00:10.994058Z",
     "iopub.status.busy": "2024-04-12T15:00:10.993598Z",
     "iopub.status.idle": "2024-04-12T15:00:27.599153Z",
     "shell.execute_reply": "2024-04-12T15:00:27.597585Z"
    },
    "papermill": {
     "duration": 16.627786,
     "end_time": "2024-04-12T15:00:27.602151",
     "exception": false,
     "start_time": "2024-04-12T15:00:10.974365",
     "status": "completed"
    },
    "tags": []
   },
   "outputs": [],
   "source": [
    "# Install websockets\n",
    "\n",
    "!pip install -q -U websockets"
   ]
  },
  {
   "cell_type": "markdown",
   "id": "6ba9cdea",
   "metadata": {
    "papermill": {
     "duration": 0.017128,
     "end_time": "2024-04-12T15:00:27.637112",
     "exception": false,
     "start_time": "2024-04-12T15:00:27.619984",
     "status": "completed"
    },
    "tags": []
   },
   "source": [
    "# Install lua-cgemma"
   ]
  },
  {
   "cell_type": "code",
   "execution_count": 3,
   "id": "7c5e897b",
   "metadata": {
    "_kg_hide-input": true,
    "_kg_hide-output": true,
    "execution": {
     "iopub.execute_input": "2024-04-12T15:00:27.675237Z",
     "iopub.status.busy": "2024-04-12T15:00:27.674825Z",
     "iopub.status.idle": "2024-04-12T15:00:27.680283Z",
     "shell.execute_reply": "2024-04-12T15:00:27.678994Z"
    },
    "papermill": {
     "duration": 0.027044,
     "end_time": "2024-04-12T15:00:27.682712",
     "exception": false,
     "start_time": "2024-04-12T15:00:27.655668",
     "status": "completed"
    },
    "tags": []
   },
   "outputs": [],
   "source": [
    "import os\n",
    "os.chdir(\"/opt\")"
   ]
  },
  {
   "cell_type": "markdown",
   "id": "d114e590",
   "metadata": {
    "papermill": {
     "duration": 0.017159,
     "end_time": "2024-04-12T15:00:27.717559",
     "exception": false,
     "start_time": "2024-04-12T15:00:27.700400",
     "status": "completed"
    },
    "tags": []
   },
   "source": [
    "**1st step:** Clone the source code from [GitHub](https://github.com/ufownl/lua-cgemma):"
   ]
  },
  {
   "cell_type": "code",
   "execution_count": 4,
   "id": "e26ca338",
   "metadata": {
    "_kg_hide-output": true,
    "execution": {
     "iopub.execute_input": "2024-04-12T15:00:27.754848Z",
     "iopub.status.busy": "2024-04-12T15:00:27.754427Z",
     "iopub.status.idle": "2024-04-12T15:00:29.459068Z",
     "shell.execute_reply": "2024-04-12T15:00:29.457881Z"
    },
    "papermill": {
     "duration": 1.726525,
     "end_time": "2024-04-12T15:00:29.461997",
     "exception": false,
     "start_time": "2024-04-12T15:00:27.735472",
     "status": "completed"
    },
    "tags": []
   },
   "outputs": [
    {
     "name": "stdout",
     "output_type": "stream",
     "text": [
      "Cloning into 'lua-cgemma'...\r\n",
      "remote: Enumerating objects: 410, done.\u001b[K\r\n",
      "remote: Counting objects: 100% (119/119), done.\u001b[K\r\n",
      "remote: Compressing objects: 100% (84/84), done.\u001b[K\r\n",
      "remote: Total 410 (delta 67), reused 67 (delta 29), pack-reused 291\u001b[K\r\n",
      "Receiving objects: 100% (410/410), 108.69 KiB | 8.36 MiB/s, done.\r\n",
      "Resolving deltas: 100% (246/246), done.\r\n"
     ]
    }
   ],
   "source": [
    "!git clone --branch main https://github.com/ufownl/lua-cgemma.git"
   ]
  },
  {
   "cell_type": "markdown",
   "id": "da07ad47",
   "metadata": {
    "papermill": {
     "duration": 0.018185,
     "end_time": "2024-04-12T15:00:29.498362",
     "exception": false,
     "start_time": "2024-04-12T15:00:29.480177",
     "status": "completed"
    },
    "tags": []
   },
   "source": [
    "**2nd step:** Build and install:"
   ]
  },
  {
   "cell_type": "code",
   "execution_count": 5,
   "id": "2cf01f0c",
   "metadata": {
    "_kg_hide-output": true,
    "execution": {
     "iopub.execute_input": "2024-04-12T15:00:29.537865Z",
     "iopub.status.busy": "2024-04-12T15:00:29.537412Z",
     "iopub.status.idle": "2024-04-12T15:05:03.716781Z",
     "shell.execute_reply": "2024-04-12T15:05:03.715323Z"
    },
    "papermill": {
     "duration": 274.202667,
     "end_time": "2024-04-12T15:05:03.719912",
     "exception": false,
     "start_time": "2024-04-12T15:00:29.517245",
     "status": "completed"
    },
    "tags": []
   },
   "outputs": [
    {
     "name": "stdout",
     "output_type": "stream",
     "text": [
      "cmake: /opt/conda/lib/libcurl.so.4: no version information available (required by cmake)\r\n",
      "-- The C compiler identification is GNU 9.4.0\r\n",
      "-- The CXX compiler identification is GNU 9.4.0\r\n",
      "-- Check for working C compiler: /usr/bin/cc\r\n",
      "-- Check for working C compiler: /usr/bin/cc -- works\r\n",
      "-- Detecting C compiler ABI info\r\n",
      "-- Detecting C compiler ABI info - done\r\n",
      "-- Detecting C compile features\r\n",
      "-- Detecting C compile features - done\r\n",
      "-- Check for working CXX compiler: /usr/bin/c++\r\n",
      "-- Check for working CXX compiler: /usr/bin/c++ -- works\r\n",
      "-- Detecting CXX compiler ABI info\r\n",
      "-- Detecting CXX compiler ABI info - done\r\n",
      "-- Detecting CXX compile features\r\n",
      "-- Detecting CXX compile features - done\r\n",
      "-- Performing Test ATOMICS_LOCK_FREE_INSTRUCTIONS\r\n",
      "-- Performing Test ATOMICS_LOCK_FREE_INSTRUCTIONS - Success\r\n",
      "-- Performing Test HWY_EMSCRIPTEN\r\n",
      "-- Performing Test HWY_EMSCRIPTEN - Failed\r\n",
      "-- Performing Test HWY_RISCV\r\n",
      "-- Performing Test HWY_RISCV - Failed\r\n",
      "-- Looking for sys/auxv.h\r\n",
      "-- Looking for sys/auxv.h - found\r\n",
      "-- Looking for asm/hwcap.h\r\n",
      "-- Looking for asm/hwcap.h - not found\r\n",
      "/usr/bin/cmake: /opt/conda/lib/libcurl.so.4: no version information available (required by /usr/bin/cmake)\r\n",
      "-- Configuring done\r\n",
      "-- Generating done\r\n",
      "-- Build files have been written to: /opt/lua-cgemma/build/_deps/highway-build/googletest-download\r\n",
      "/usr/bin/cmake: /opt/conda/lib/libcurl.so.4: no version information available (required by /usr/bin/cmake)\r\n",
      "/usr/bin/cmake: /opt/conda/lib/libcurl.so.4: no version information available (required by /usr/bin/cmake)\r\n",
      "/usr/bin/cmake: /opt/conda/lib/libcurl.so.4: no version information available (required by /usr/bin/cmake)\r\n",
      "/usr/bin/cmake: /opt/conda/lib/libcurl.so.4: no version information available (required by /usr/bin/cmake)\r\n",
      "\u001b[35m\u001b[1mScanning dependencies of target googletest\u001b[0m\r\n",
      "/usr/bin/cmake: /opt/conda/lib/libcurl.so.4: no version information available (required by /usr/bin/cmake)\r\n",
      "[ 11%] \u001b[34m\u001b[1mCreating directories for 'googletest'\u001b[0m\r\n",
      "/usr/bin/cmake: /opt/conda/lib/libcurl.so.4: no version information available (required by /usr/bin/cmake)\r\n",
      "/usr/bin/cmake: /opt/conda/lib/libcurl.so.4: no version information available (required by /usr/bin/cmake)\r\n",
      "/usr/bin/cmake: /opt/conda/lib/libcurl.so.4: no version information available (required by /usr/bin/cmake)\r\n",
      "/usr/bin/cmake: /opt/conda/lib/libcurl.so.4: no version information available (required by /usr/bin/cmake)\r\n",
      "/usr/bin/cmake: /opt/conda/lib/libcurl.so.4: no version information available (required by /usr/bin/cmake)\r\n",
      "/usr/bin/cmake: /opt/conda/lib/libcurl.so.4: no version information available (required by /usr/bin/cmake)\r\n",
      "/usr/bin/cmake: /opt/conda/lib/libcurl.so.4: no version information available (required by /usr/bin/cmake)\r\n",
      "/usr/bin/cmake: /opt/conda/lib/libcurl.so.4: no version information available (required by /usr/bin/cmake)\r\n",
      "/usr/bin/cmake: /opt/conda/lib/libcurl.so.4: no version information available (required by /usr/bin/cmake)\r\n",
      "[ 22%] \u001b[34m\u001b[1mPerforming download step (git clone) for 'googletest'\u001b[0m\r\n",
      "/usr/bin/cmake: /opt/conda/lib/libcurl.so.4: no version information available (required by /usr/bin/cmake)\r\n",
      "/usr/bin/cmake: /opt/conda/lib/libcurl.so.4: no version information available (required by /usr/bin/cmake)\r\n",
      "Cloning into 'googletest-src'...\r\n",
      "Note: switching to '43efa0a4efd40c78b9210d15373112081899a97c'.\r\n",
      "\r\n",
      "You are in 'detached HEAD' state. You can look around, make experimental\r\n",
      "changes and commit them, and you can discard any commits you make in this\r\n",
      "state without impacting any branches by switching back to a branch.\r\n",
      "\r\n",
      "If you want to create a new branch to retain commits you create, you may\r\n",
      "do so (now or later) by using -c with the switch command. Example:\r\n",
      "\r\n",
      "  git switch -c <new-branch-name>\r\n",
      "\r\n",
      "Or undo this operation with:\r\n",
      "\r\n",
      "  git switch -\r\n",
      "\r\n",
      "Turn off this advice by setting config variable advice.detachedHead to false\r\n",
      "\r\n",
      "HEAD is now at 43efa0a4 Merge pull request #3617 from Bagira80:fix_3616\r\n",
      "/usr/bin/cmake: /opt/conda/lib/libcurl.so.4: no version information available (required by /usr/bin/cmake)\r\n",
      "/usr/bin/cmake: /opt/conda/lib/libcurl.so.4: no version information available (required by /usr/bin/cmake)\r\n",
      "/usr/bin/cmake: /opt/conda/lib/libcurl.so.4: no version information available (required by /usr/bin/cmake)\r\n",
      "[ 33%] \u001b[34m\u001b[1mNo patch step for 'googletest'\u001b[0m\r\n",
      "/usr/bin/cmake: /opt/conda/lib/libcurl.so.4: no version information available (required by /usr/bin/cmake)\r\n",
      "/usr/bin/cmake: /opt/conda/lib/libcurl.so.4: no version information available (required by /usr/bin/cmake)\r\n",
      "/usr/bin/cmake: /opt/conda/lib/libcurl.so.4: no version information available (required by /usr/bin/cmake)\r\n",
      "[ 44%] \u001b[34m\u001b[1mPerforming update step for 'googletest'\u001b[0m\r\n",
      "/usr/bin/cmake: /opt/conda/lib/libcurl.so.4: no version information available (required by /usr/bin/cmake)\r\n",
      "/usr/bin/cmake: /opt/conda/lib/libcurl.so.4: no version information available (required by /usr/bin/cmake)\r\n",
      "[ 55%] \u001b[34m\u001b[1mNo configure step for 'googletest'\u001b[0m\r\n",
      "/usr/bin/cmake: /opt/conda/lib/libcurl.so.4: no version information available (required by /usr/bin/cmake)\r\n",
      "/usr/bin/cmake: /opt/conda/lib/libcurl.so.4: no version information available (required by /usr/bin/cmake)\r\n",
      "/usr/bin/cmake: /opt/conda/lib/libcurl.so.4: no version information available (required by /usr/bin/cmake)\r\n",
      "[ 66%] \u001b[34m\u001b[1mNo build step for 'googletest'\u001b[0m\r\n",
      "/usr/bin/cmake: /opt/conda/lib/libcurl.so.4: no version information available (required by /usr/bin/cmake)\r\n",
      "/usr/bin/cmake: /opt/conda/lib/libcurl.so.4: no version information available (required by /usr/bin/cmake)\r\n",
      "/usr/bin/cmake: /opt/conda/lib/libcurl.so.4: no version information available (required by /usr/bin/cmake)\r\n",
      "[ 77%] \u001b[34m\u001b[1mNo install step for 'googletest'\u001b[0m\r\n",
      "/usr/bin/cmake: /opt/conda/lib/libcurl.so.4: no version information available (required by /usr/bin/cmake)\r\n",
      "/usr/bin/cmake: /opt/conda/lib/libcurl.so.4: no version information available (required by /usr/bin/cmake)\r\n",
      "/usr/bin/cmake: /opt/conda/lib/libcurl.so.4: no version information available (required by /usr/bin/cmake)\r\n",
      "[ 88%] \u001b[34m\u001b[1mNo test step for 'googletest'\u001b[0m\r\n",
      "/usr/bin/cmake: /opt/conda/lib/libcurl.so.4: no version information available (required by /usr/bin/cmake)\r\n",
      "/usr/bin/cmake: /opt/conda/lib/libcurl.so.4: no version information available (required by /usr/bin/cmake)\r\n",
      "/usr/bin/cmake: /opt/conda/lib/libcurl.so.4: no version information available (required by /usr/bin/cmake)\r\n",
      "[100%] \u001b[34m\u001b[1mCompleted 'googletest'\u001b[0m\r\n",
      "/usr/bin/cmake: /opt/conda/lib/libcurl.so.4: no version information available (required by /usr/bin/cmake)\r\n",
      "/usr/bin/cmake: /opt/conda/lib/libcurl.so.4: no version information available (required by /usr/bin/cmake)\r\n",
      "/usr/bin/cmake: /opt/conda/lib/libcurl.so.4: no version information available (required by /usr/bin/cmake)\r\n",
      "/usr/bin/cmake: /opt/conda/lib/libcurl.so.4: no version information available (required by /usr/bin/cmake)\r\n",
      "[100%] Built target googletest\r\n",
      "/usr/bin/cmake: /opt/conda/lib/libcurl.so.4: no version information available (required by /usr/bin/cmake)\r\n",
      "-- Found Python: /usr/bin/python3.8 (found version \"3.8.10\") found components: Interpreter \r\n",
      "-- Looking for pthread.h\r\n",
      "-- Looking for pthread.h - found\r\n",
      "-- Performing Test CMAKE_HAVE_LIBC_PTHREAD\r\n",
      "-- Performing Test CMAKE_HAVE_LIBC_PTHREAD - Failed\r\n",
      "-- Looking for pthread_create in pthreads\r\n",
      "-- Looking for pthread_create in pthreads - not found\r\n",
      "-- Looking for pthread_create in pthread\r\n",
      "-- Looking for pthread_create in pthread - found\r\n",
      "-- Found Threads: TRUE  \r\n",
      "-- VERSION: 0.2.0\r\n",
      "-- Not Found TCMalloc: TCMALLOC_LIB-NOTFOUND\r\n",
      "-- Using the multi-header code from /opt/lua-cgemma/build/_deps/json-src/include/\r\n",
      "-- Found LuaJIT: /usr/local/openresty/luajit/lib/libluajit-5.1.so (found version \"2.1.ROLLING\") \r\n",
      "-- Configuring done\r\n",
      "-- Generating done\r\n",
      "-- Build files have been written to: /opt/lua-cgemma/build\r\n",
      "/usr/bin/cmake: /opt/conda/lib/libcurl.so.4: no version information available (required by /usr/bin/cmake)\r\n",
      "/usr/bin/cmake: /opt/conda/lib/libcurl.so.4: no version information available (required by /usr/bin/cmake)\r\n",
      "/usr/bin/cmake: /opt/conda/lib/libcurl.so.4: no version information available (required by /usr/bin/cmake)\r\n",
      "/usr/bin/cmake: /opt/conda/lib/libcurl.so.4: no version information available (required by /usr/bin/cmake)\r\n",
      "\u001b[35m\u001b[1mScanning dependencies of target hwy\u001b[0m\r\n",
      "\u001b[35m\u001b[1mScanning dependencies of target sentencepiece\u001b[0m\r\n",
      "/usr/bin/cmake: /opt/conda/lib/libcurl.so.4: no version information available (required by /usr/bin/cmake)\r\n",
      "/usr/bin/cmake: /opt/conda/lib/libcurl.so.4: no version information available (required by /usr/bin/cmake)\r\n",
      "/usr/bin/cmake: /opt/conda/lib/libcurl.so.4: no version information available (required by /usr/bin/cmake)\r\n",
      "[  3%] \u001b[32mBuilding CXX object _deps/highway-build/CMakeFiles/hwy.dir/hwy/nanobenchmark.cc.o\u001b[0m\r\n",
      "[  3%] \u001b[32mBuilding CXX object _deps/highway-build/CMakeFiles/hwy.dir/hwy/per_target.cc.o\u001b[0m\r\n",
      "[  3%] \u001b[32mBuilding CXX object _deps/highway-build/CMakeFiles/hwy.dir/hwy/aligned_allocator.cc.o\u001b[0m\r\n",
      "/usr/bin/cmake: /opt/conda/lib/libcurl.so.4: no version information available (required by /usr/bin/cmake)\r\n",
      "[  7%] \u001b[32mBuilding CXX object _deps/sentencepiece-build/src/CMakeFiles/sentencepiece.dir/__/third_party/protobuf-lite/arena.cc.o\u001b[0m\r\n",
      "/usr/bin/cmake: /opt/conda/lib/libcurl.so.4: no version information available (required by /usr/bin/cmake)\r\n",
      "[  7%] \u001b[32mBuilding CXX object _deps/highway-build/CMakeFiles/hwy.dir/hwy/print.cc.o\u001b[0m\r\n",
      "/usr/bin/cmake: /opt/conda/lib/libcurl.so.4: no version information available (required by /usr/bin/cmake)\r\n",
      "[ 10%] \u001b[32mBuilding CXX object _deps/highway-build/CMakeFiles/hwy.dir/hwy/targets.cc.o\u001b[0m\r\n",
      "/usr/bin/cmake: /opt/conda/lib/libcurl.so.4: no version information available (required by /usr/bin/cmake)\r\n",
      "[ 10%] \u001b[32mBuilding CXX object _deps/sentencepiece-build/src/CMakeFiles/sentencepiece.dir/__/third_party/protobuf-lite/arenastring.cc.o\u001b[0m\r\n",
      "/usr/bin/cmake: /opt/conda/lib/libcurl.so.4: no version information available (required by /usr/bin/cmake)\r\n",
      "[ 10%] \u001b[32mBuilding CXX object _deps/highway-build/CMakeFiles/hwy.dir/hwy/timer.cc.o\u001b[0m\r\n",
      "/usr/bin/cmake: /opt/conda/lib/libcurl.so.4: no version information available (required by /usr/bin/cmake)\r\n",
      "[ 10%] \u001b[32mBuilding CXX object _deps/sentencepiece-build/src/CMakeFiles/sentencepiece.dir/__/third_party/protobuf-lite/bytestream.cc.o\u001b[0m\r\n",
      "/usr/bin/cmake: /opt/conda/lib/libcurl.so.4: no version information available (required by /usr/bin/cmake)\r\n",
      "[ 14%] \u001b[32mBuilding CXX object _deps/sentencepiece-build/src/CMakeFiles/sentencepiece.dir/__/third_party/protobuf-lite/coded_stream.cc.o\u001b[0m\r\n",
      "/usr/bin/cmake: /opt/conda/lib/libcurl.so.4: no version information available (required by /usr/bin/cmake)\r\n",
      "[ 14%] \u001b[32mBuilding CXX object _deps/sentencepiece-build/src/CMakeFiles/sentencepiece.dir/__/third_party/protobuf-lite/common.cc.o\u001b[0m\r\n",
      "/usr/bin/cmake: /opt/conda/lib/libcurl.so.4: no version information available (required by /usr/bin/cmake)\r\n",
      "[ 14%] \u001b[32mBuilding CXX object _deps/sentencepiece-build/src/CMakeFiles/sentencepiece.dir/__/third_party/protobuf-lite/extension_set.cc.o\u001b[0m\r\n",
      "/usr/bin/cmake: /opt/conda/lib/libcurl.so.4: no version information available (required by /usr/bin/cmake)\r\n",
      "[ 17%] \u001b[32mBuilding CXX object _deps/sentencepiece-build/src/CMakeFiles/sentencepiece.dir/__/third_party/protobuf-lite/generated_enum_util.cc.o\u001b[0m\r\n",
      "/usr/bin/cmake: /opt/conda/lib/libcurl.so.4: no version information available (required by /usr/bin/cmake)\r\n",
      "[ 17%] \u001b[32mBuilding CXX object _deps/sentencepiece-build/src/CMakeFiles/sentencepiece.dir/__/third_party/protobuf-lite/generated_message_table_driven_lite.cc.o\u001b[0m\r\n",
      "/usr/bin/cmake: /opt/conda/lib/libcurl.so.4: no version information available (required by /usr/bin/cmake)\r\n",
      "[ 17%] \u001b[32mBuilding CXX object _deps/sentencepiece-build/src/CMakeFiles/sentencepiece.dir/__/third_party/protobuf-lite/generated_message_util.cc.o\u001b[0m\r\n",
      "/usr/bin/cmake: /opt/conda/lib/libcurl.so.4: no version information available (required by /usr/bin/cmake)\r\n",
      "[ 17%] \u001b[32m\u001b[1mLinking CXX static library libhwy.a\u001b[0m\r\n",
      "/usr/bin/cmake: /opt/conda/lib/libcurl.so.4: no version information available (required by /usr/bin/cmake)\r\n",
      "/usr/bin/cmake: /opt/conda/lib/libcurl.so.4: no version information available (required by /usr/bin/cmake)\r\n",
      "/usr/bin/cmake: /opt/conda/lib/libcurl.so.4: no version information available (required by /usr/bin/cmake)\r\n",
      "[ 17%] Built target hwy\r\n",
      "/usr/bin/cmake: /opt/conda/lib/libcurl.so.4: no version information available (required by /usr/bin/cmake)\r\n",
      "\u001b[35m\u001b[1mScanning dependencies of target hwy_contrib\u001b[0m\r\n",
      "/usr/bin/cmake: /opt/conda/lib/libcurl.so.4: no version information available (required by /usr/bin/cmake)\r\n",
      "[ 21%] \u001b[32mBuilding CXX object _deps/highway-build/CMakeFiles/hwy_contrib.dir/hwy/contrib/sort/vqsort_128a.cc.o\u001b[0m\r\n",
      "/usr/bin/cmake: /opt/conda/lib/libcurl.so.4: no version information available (required by /usr/bin/cmake)\r\n",
      "[ 25%] \u001b[32mBuilding CXX object _deps/sentencepiece-build/src/CMakeFiles/sentencepiece.dir/__/third_party/protobuf-lite/implicit_weak_message.cc.o\u001b[0m\r\n",
      "/usr/bin/cmake: /opt/conda/lib/libcurl.so.4: no version information available (required by /usr/bin/cmake)\r\n",
      "[ 25%] \u001b[32mBuilding CXX object _deps/sentencepiece-build/src/CMakeFiles/sentencepiece.dir/__/third_party/protobuf-lite/int128.cc.o\u001b[0m\r\n",
      "/usr/bin/cmake: /opt/conda/lib/libcurl.so.4: no version information available (required by /usr/bin/cmake)\r\n",
      "[ 25%] \u001b[32mBuilding CXX object _deps/sentencepiece-build/src/CMakeFiles/sentencepiece.dir/__/third_party/protobuf-lite/io_win32.cc.o\u001b[0m\r\n",
      "/usr/bin/cmake: /opt/conda/lib/libcurl.so.4: no version information available (required by /usr/bin/cmake)\r\n",
      "[ 28%] \u001b[32mBuilding CXX object _deps/sentencepiece-build/src/CMakeFiles/sentencepiece.dir/__/third_party/protobuf-lite/message_lite.cc.o\u001b[0m\r\n",
      "/usr/bin/cmake: /opt/conda/lib/libcurl.so.4: no version information available (required by /usr/bin/cmake)\r\n",
      "[ 28%] \u001b[32mBuilding CXX object _deps/sentencepiece-build/src/CMakeFiles/sentencepiece.dir/__/third_party/protobuf-lite/parse_context.cc.o\u001b[0m\r\n",
      "/usr/bin/cmake: /opt/conda/lib/libcurl.so.4: no version information available (required by /usr/bin/cmake)\r\n",
      "[ 28%] \u001b[32mBuilding CXX object _deps/sentencepiece-build/src/CMakeFiles/sentencepiece.dir/__/third_party/protobuf-lite/repeated_field.cc.o\u001b[0m\r\n",
      "In file included from \u001b[01m\u001b[K/usr/include/string.h:495\u001b[m\u001b[K,\r\n",
      "                 from \u001b[01m\u001b[K/opt/lua-cgemma/build/_deps/sentencepiece-src/src/../third_party/protobuf-lite/google/protobuf/stubs/port.h:39\u001b[m\u001b[K,\r\n",
      "                 from \u001b[01m\u001b[K/opt/lua-cgemma/build/_deps/sentencepiece-src/src/../third_party/protobuf-lite/google/protobuf/stubs/macros.h:34\u001b[m\u001b[K,\r\n",
      "                 from \u001b[01m\u001b[K/opt/lua-cgemma/build/_deps/sentencepiece-src/src/../third_party/protobuf-lite/google/protobuf/stubs/common.h:46\u001b[m\u001b[K,\r\n",
      "                 from \u001b[01m\u001b[K/opt/lua-cgemma/build/_deps/sentencepiece-src/src/../third_party/protobuf-lite/google/protobuf/message_lite.h:45\u001b[m\u001b[K,\r\n",
      "                 from \u001b[01m\u001b[K/opt/lua-cgemma/build/_deps/sentencepiece-src/third_party/protobuf-lite/message_lite.cc:36\u001b[m\u001b[K:\r\n",
      "In function '\u001b[01m\u001b[Kvoid* memcpy(void*, const void*, size_t)\u001b[m\u001b[K',\r\n",
      "    inlined from '\u001b[01m\u001b[Kgoogle::protobuf::uint8* google::protobuf::io::EpsCopyOutputStream::WriteRaw(const void*, int, google::protobuf::uint8*)\u001b[m\u001b[K' at \u001b[01m\u001b[K/opt/lua-cgemma/build/_deps/sentencepiece-src/src/../third_party/protobuf-lite/google/protobuf/io/coded_stream.h:699:16\u001b[m\u001b[K,\r\n",
      "    inlined from '\u001b[01m\u001b[Kbool google::protobuf::MessageLite::SerializePartialToZeroCopyStream(google::protobuf::io::ZeroCopyOutputStream*) const\u001b[m\u001b[K' at \u001b[01m\u001b[K/opt/lua-cgemma/build/_deps/sentencepiece-src/src/../third_party/protobuf-lite/google/protobuf/implicit_weak_message.h:85:28\u001b[m\u001b[K:\r\n",
      "\u001b[01m\u001b[K/usr/include/x86_64-linux-gnu/bits/string_fortified.h:34:33:\u001b[m\u001b[K \u001b[01;35m\u001b[Kwarning: \u001b[m\u001b[K'\u001b[01m\u001b[Kvoid* __builtin___memcpy_chk(void*, const void*, long unsigned int, long unsigned int)\u001b[m\u001b[K' specified size between 18446744071562067968 and 18446744073709551615 exceeds maximum object size 9223372036854775807 [\u001b[01;35m\u001b[K-Wstringop-overflow=\u001b[m\u001b[K]\r\n",
      "   34 |   return \u001b[01;35m\u001b[K__builtin___memcpy_chk (__dest, __src, __len, __bos0 (__dest))\u001b[m\u001b[K;\r\n",
      "      |          \u001b[01;35m\u001b[K~~~~~~~~~~~~~~~~~~~~~~~^~~~~~~~~~~~~~~~~~~~~~~~~~~~~~~~~~~~~~~\u001b[m\u001b[K\r\n",
      "/usr/bin/cmake: /opt/conda/lib/libcurl.so.4: no version information available (required by /usr/bin/cmake)\r\n",
      "[ 32%] \u001b[32mBuilding CXX object _deps/sentencepiece-build/src/CMakeFiles/sentencepiece.dir/__/third_party/protobuf-lite/status.cc.o\u001b[0m\r\n",
      "/usr/bin/cmake: /opt/conda/lib/libcurl.so.4: no version information available (required by /usr/bin/cmake)\r\n",
      "[ 32%] \u001b[32mBuilding CXX object _deps/sentencepiece-build/src/CMakeFiles/sentencepiece.dir/__/third_party/protobuf-lite/statusor.cc.o\u001b[0m\r\n",
      "/usr/bin/cmake: /opt/conda/lib/libcurl.so.4: no version information available (required by /usr/bin/cmake)\r\n",
      "[ 32%] \u001b[32mBuilding CXX object _deps/sentencepiece-build/src/CMakeFiles/sentencepiece.dir/__/third_party/protobuf-lite/stringpiece.cc.o\u001b[0m\r\n",
      "/usr/bin/cmake: /opt/conda/lib/libcurl.so.4: no version information available (required by /usr/bin/cmake)\r\n",
      "[ 35%] \u001b[32mBuilding CXX object _deps/sentencepiece-build/src/CMakeFiles/sentencepiece.dir/__/third_party/protobuf-lite/stringprintf.cc.o\u001b[0m\r\n",
      "/usr/bin/cmake: /opt/conda/lib/libcurl.so.4: no version information available (required by /usr/bin/cmake)\r\n",
      "[ 35%] \u001b[32mBuilding CXX object _deps/sentencepiece-build/src/CMakeFiles/sentencepiece.dir/__/third_party/protobuf-lite/structurally_valid.cc.o\u001b[0m\r\n",
      "/usr/bin/cmake: /opt/conda/lib/libcurl.so.4: no version information available (required by /usr/bin/cmake)\r\n",
      "[ 35%] \u001b[32mBuilding CXX object _deps/sentencepiece-build/src/CMakeFiles/sentencepiece.dir/__/third_party/protobuf-lite/strutil.cc.o\u001b[0m\r\n",
      "/usr/bin/cmake: /opt/conda/lib/libcurl.so.4: no version information available (required by /usr/bin/cmake)\r\n",
      "[ 39%] \u001b[32mBuilding CXX object _deps/sentencepiece-build/src/CMakeFiles/sentencepiece.dir/__/third_party/protobuf-lite/time.cc.o\u001b[0m\r\n",
      "/usr/bin/cmake: /opt/conda/lib/libcurl.so.4: no version information available (required by /usr/bin/cmake)\r\n",
      "[ 39%] \u001b[32mBuilding CXX object _deps/sentencepiece-build/src/CMakeFiles/sentencepiece.dir/__/third_party/protobuf-lite/wire_format_lite.cc.o\u001b[0m\r\n",
      "/usr/bin/cmake: /opt/conda/lib/libcurl.so.4: no version information available (required by /usr/bin/cmake)\r\n",
      "[ 39%] \u001b[32mBuilding CXX object _deps/sentencepiece-build/src/CMakeFiles/sentencepiece.dir/__/third_party/protobuf-lite/zero_copy_stream.cc.o\u001b[0m\r\n",
      "/usr/bin/cmake: /opt/conda/lib/libcurl.so.4: no version information available (required by /usr/bin/cmake)\r\n",
      "[ 42%] \u001b[32mBuilding CXX object _deps/sentencepiece-build/src/CMakeFiles/sentencepiece.dir/__/third_party/protobuf-lite/zero_copy_stream_impl.cc.o\u001b[0m\r\n",
      "/usr/bin/cmake: /opt/conda/lib/libcurl.so.4: no version information available (required by /usr/bin/cmake)\r\n",
      "[ 42%] \u001b[32mBuilding CXX object _deps/sentencepiece-build/src/CMakeFiles/sentencepiece.dir/__/third_party/protobuf-lite/zero_copy_stream_impl_lite.cc.o\u001b[0m\r\n",
      "/usr/bin/cmake: /opt/conda/lib/libcurl.so.4: no version information available (required by /usr/bin/cmake)\r\n",
      "[ 42%] \u001b[32mBuilding CXX object _deps/sentencepiece-build/src/CMakeFiles/sentencepiece.dir/builtin_pb/sentencepiece.pb.cc.o\u001b[0m\r\n",
      "/usr/bin/cmake: /opt/conda/lib/libcurl.so.4: no version information available (required by /usr/bin/cmake)\r\n",
      "[ 46%] \u001b[32mBuilding CXX object _deps/sentencepiece-build/src/CMakeFiles/sentencepiece.dir/builtin_pb/sentencepiece_model.pb.cc.o\u001b[0m\r\n",
      "/usr/bin/cmake: /opt/conda/lib/libcurl.so.4: no version information available (required by /usr/bin/cmake)\r\n",
      "[ 46%] \u001b[32mBuilding CXX object _deps/sentencepiece-build/src/CMakeFiles/sentencepiece.dir/bpe_model.cc.o\u001b[0m\r\n",
      "/usr/bin/cmake: /opt/conda/lib/libcurl.so.4: no version information available (required by /usr/bin/cmake)\r\n",
      "[ 46%] \u001b[32mBuilding CXX object _deps/sentencepiece-build/src/CMakeFiles/sentencepiece.dir/char_model.cc.o\u001b[0m\r\n",
      "/usr/bin/cmake: /opt/conda/lib/libcurl.so.4: no version information available (required by /usr/bin/cmake)\r\n",
      "[ 50%] \u001b[32mBuilding CXX object _deps/sentencepiece-build/src/CMakeFiles/sentencepiece.dir/error.cc.o\u001b[0m\r\n",
      "/usr/bin/cmake: /opt/conda/lib/libcurl.so.4: no version information available (required by /usr/bin/cmake)\r\n",
      "[ 50%] \u001b[32mBuilding CXX object _deps/sentencepiece-build/src/CMakeFiles/sentencepiece.dir/filesystem.cc.o\u001b[0m\r\n",
      "/usr/bin/cmake: /opt/conda/lib/libcurl.so.4: no version information available (required by /usr/bin/cmake)\r\n",
      "[ 50%] \u001b[32mBuilding CXX object _deps/sentencepiece-build/src/CMakeFiles/sentencepiece.dir/model_factory.cc.o\u001b[0m\r\n",
      "/usr/bin/cmake: /opt/conda/lib/libcurl.so.4: no version information available (required by /usr/bin/cmake)\r\n",
      "[ 50%] \u001b[32mBuilding CXX object _deps/highway-build/CMakeFiles/hwy_contrib.dir/hwy/contrib/sort/vqsort_128d.cc.o\u001b[0m\r\n",
      "/usr/bin/cmake: /opt/conda/lib/libcurl.so.4: no version information available (required by /usr/bin/cmake)\r\n",
      "[ 53%] \u001b[32mBuilding CXX object _deps/sentencepiece-build/src/CMakeFiles/sentencepiece.dir/model_interface.cc.o\u001b[0m\r\n",
      "/usr/bin/cmake: /opt/conda/lib/libcurl.so.4: no version information available (required by /usr/bin/cmake)\r\n",
      "[ 53%] \u001b[32mBuilding CXX object _deps/sentencepiece-build/src/CMakeFiles/sentencepiece.dir/normalizer.cc.o\u001b[0m\r\n",
      "/usr/bin/cmake: /opt/conda/lib/libcurl.so.4: no version information available (required by /usr/bin/cmake)\r\n",
      "[ 53%] \u001b[32mBuilding CXX object _deps/sentencepiece-build/src/CMakeFiles/sentencepiece.dir/sentencepiece_processor.cc.o\u001b[0m\r\n",
      "/usr/bin/cmake: /opt/conda/lib/libcurl.so.4: no version information available (required by /usr/bin/cmake)\r\n",
      "[ 57%] \u001b[32mBuilding CXX object _deps/sentencepiece-build/src/CMakeFiles/sentencepiece.dir/unigram_model.cc.o\u001b[0m\r\n",
      "/usr/bin/cmake: /opt/conda/lib/libcurl.so.4: no version information available (required by /usr/bin/cmake)\r\n",
      "[ 57%] \u001b[32mBuilding CXX object _deps/sentencepiece-build/src/CMakeFiles/sentencepiece.dir/util.cc.o\u001b[0m\r\n",
      "/usr/bin/cmake: /opt/conda/lib/libcurl.so.4: no version information available (required by /usr/bin/cmake)\r\n",
      "[ 57%] \u001b[32mBuilding CXX object _deps/sentencepiece-build/src/CMakeFiles/sentencepiece.dir/word_model.cc.o\u001b[0m\r\n",
      "/usr/bin/cmake: /opt/conda/lib/libcurl.so.4: no version information available (required by /usr/bin/cmake)\r\n",
      "[ 60%] \u001b[32mBuilding CXX object _deps/sentencepiece-build/src/CMakeFiles/sentencepiece.dir/__/third_party/absl/flags/flag.cc.o\u001b[0m\r\n",
      "/usr/bin/cmake: /opt/conda/lib/libcurl.so.4: no version information available (required by /usr/bin/cmake)\r\n",
      "[ 60%] \u001b[32mBuilding CXX object _deps/highway-build/CMakeFiles/hwy_contrib.dir/hwy/contrib/sort/vqsort_f16a.cc.o\u001b[0m\r\n",
      "/usr/bin/cmake: /opt/conda/lib/libcurl.so.4: no version information available (required by /usr/bin/cmake)\r\n",
      "[ 64%] \u001b[32mBuilding CXX object _deps/highway-build/CMakeFiles/hwy_contrib.dir/hwy/contrib/sort/vqsort_f16d.cc.o\u001b[0m\r\n",
      "/usr/bin/cmake: /opt/conda/lib/libcurl.so.4: no version information available (required by /usr/bin/cmake)\r\n",
      "[ 64%] \u001b[32m\u001b[1mLinking CXX shared library libsentencepiece.so\u001b[0m\r\n",
      "/usr/bin/cmake: /opt/conda/lib/libcurl.so.4: no version information available (required by /usr/bin/cmake)\r\n",
      "/usr/bin/cmake: /opt/conda/lib/libcurl.so.4: no version information available (required by /usr/bin/cmake)\r\n",
      "/usr/bin/cmake: /opt/conda/lib/libcurl.so.4: no version information available (required by /usr/bin/cmake)\r\n",
      "/usr/bin/cmake: /opt/conda/lib/libcurl.so.4: no version information available (required by /usr/bin/cmake)\r\n",
      "[ 64%] Built target sentencepiece\r\n",
      "/usr/bin/cmake: /opt/conda/lib/libcurl.so.4: no version information available (required by /usr/bin/cmake)\r\n",
      "[ 64%] \u001b[32mBuilding CXX object _deps/highway-build/CMakeFiles/hwy_contrib.dir/hwy/contrib/sort/vqsort_f32a.cc.o\u001b[0m\r\n",
      "/usr/bin/cmake: /opt/conda/lib/libcurl.so.4: no version information available (required by /usr/bin/cmake)\r\n",
      "[ 64%] \u001b[32mBuilding CXX object _deps/highway-build/CMakeFiles/hwy_contrib.dir/hwy/contrib/sort/vqsort_f32d.cc.o\u001b[0m\r\n",
      "/usr/bin/cmake: /opt/conda/lib/libcurl.so.4: no version information available (required by /usr/bin/cmake)\r\n",
      "[ 67%] \u001b[32mBuilding CXX object _deps/highway-build/CMakeFiles/hwy_contrib.dir/hwy/contrib/sort/vqsort_f64a.cc.o\u001b[0m\r\n",
      "/usr/bin/cmake: /opt/conda/lib/libcurl.so.4: no version information available (required by /usr/bin/cmake)\r\n",
      "[ 67%] \u001b[32mBuilding CXX object _deps/highway-build/CMakeFiles/hwy_contrib.dir/hwy/contrib/sort/vqsort_f64d.cc.o\u001b[0m\r\n",
      "/usr/bin/cmake: /opt/conda/lib/libcurl.so.4: no version information available (required by /usr/bin/cmake)\r\n",
      "[ 67%] \u001b[32mBuilding CXX object _deps/highway-build/CMakeFiles/hwy_contrib.dir/hwy/contrib/sort/vqsort_i16a.cc.o\u001b[0m\r\n",
      "/usr/bin/cmake: /opt/conda/lib/libcurl.so.4: no version information available (required by /usr/bin/cmake)\r\n",
      "[ 71%] \u001b[32mBuilding CXX object _deps/highway-build/CMakeFiles/hwy_contrib.dir/hwy/contrib/sort/vqsort_i16d.cc.o\u001b[0m\r\n",
      "/usr/bin/cmake: /opt/conda/lib/libcurl.so.4: no version information available (required by /usr/bin/cmake)\r\n",
      "[ 71%] \u001b[32mBuilding CXX object _deps/highway-build/CMakeFiles/hwy_contrib.dir/hwy/contrib/sort/vqsort_i32a.cc.o\u001b[0m\r\n",
      "/usr/bin/cmake: /opt/conda/lib/libcurl.so.4: no version information available (required by /usr/bin/cmake)\r\n",
      "[ 71%] \u001b[32mBuilding CXX object _deps/highway-build/CMakeFiles/hwy_contrib.dir/hwy/contrib/sort/vqsort_i32d.cc.o\u001b[0m\r\n",
      "/usr/bin/cmake: /opt/conda/lib/libcurl.so.4: no version information available (required by /usr/bin/cmake)\r\n",
      "[ 75%] \u001b[32mBuilding CXX object _deps/highway-build/CMakeFiles/hwy_contrib.dir/hwy/contrib/sort/vqsort_i64a.cc.o\u001b[0m\r\n",
      "/usr/bin/cmake: /opt/conda/lib/libcurl.so.4: no version information available (required by /usr/bin/cmake)\r\n",
      "[ 75%] \u001b[32mBuilding CXX object _deps/highway-build/CMakeFiles/hwy_contrib.dir/hwy/contrib/sort/vqsort_i64d.cc.o\u001b[0m\r\n",
      "/usr/bin/cmake: /opt/conda/lib/libcurl.so.4: no version information available (required by /usr/bin/cmake)\r\n",
      "[ 75%] \u001b[32mBuilding CXX object _deps/highway-build/CMakeFiles/hwy_contrib.dir/hwy/contrib/sort/vqsort_kv128a.cc.o\u001b[0m\r\n",
      "/usr/bin/cmake: /opt/conda/lib/libcurl.so.4: no version information available (required by /usr/bin/cmake)\r\n",
      "[ 78%] \u001b[32mBuilding CXX object _deps/highway-build/CMakeFiles/hwy_contrib.dir/hwy/contrib/sort/vqsort_kv128d.cc.o\u001b[0m\r\n",
      "/usr/bin/cmake: /opt/conda/lib/libcurl.so.4: no version information available (required by /usr/bin/cmake)\r\n",
      "[ 78%] \u001b[32mBuilding CXX object _deps/highway-build/CMakeFiles/hwy_contrib.dir/hwy/contrib/sort/vqsort_kv64a.cc.o\u001b[0m\r\n",
      "/usr/bin/cmake: /opt/conda/lib/libcurl.so.4: no version information available (required by /usr/bin/cmake)\r\n",
      "[ 78%] \u001b[32mBuilding CXX object _deps/highway-build/CMakeFiles/hwy_contrib.dir/hwy/contrib/sort/vqsort_kv64d.cc.o\u001b[0m\r\n",
      "/usr/bin/cmake: /opt/conda/lib/libcurl.so.4: no version information available (required by /usr/bin/cmake)\r\n",
      "[ 82%] \u001b[32mBuilding CXX object _deps/highway-build/CMakeFiles/hwy_contrib.dir/hwy/contrib/sort/vqsort_u16a.cc.o\u001b[0m\r\n",
      "/usr/bin/cmake: /opt/conda/lib/libcurl.so.4: no version information available (required by /usr/bin/cmake)\r\n",
      "[ 82%] \u001b[32mBuilding CXX object _deps/highway-build/CMakeFiles/hwy_contrib.dir/hwy/contrib/sort/vqsort_u16d.cc.o\u001b[0m\r\n",
      "/usr/bin/cmake: /opt/conda/lib/libcurl.so.4: no version information available (required by /usr/bin/cmake)\r\n",
      "[ 82%] \u001b[32mBuilding CXX object _deps/highway-build/CMakeFiles/hwy_contrib.dir/hwy/contrib/sort/vqsort_u32a.cc.o\u001b[0m\r\n",
      "/usr/bin/cmake: /opt/conda/lib/libcurl.so.4: no version information available (required by /usr/bin/cmake)\r\n",
      "[ 85%] \u001b[32mBuilding CXX object _deps/highway-build/CMakeFiles/hwy_contrib.dir/hwy/contrib/sort/vqsort_u32d.cc.o\u001b[0m\r\n",
      "/usr/bin/cmake: /opt/conda/lib/libcurl.so.4: no version information available (required by /usr/bin/cmake)\r\n",
      "[ 85%] \u001b[32mBuilding CXX object _deps/highway-build/CMakeFiles/hwy_contrib.dir/hwy/contrib/sort/vqsort_u64a.cc.o\u001b[0m\r\n",
      "/usr/bin/cmake: /opt/conda/lib/libcurl.so.4: no version information available (required by /usr/bin/cmake)\r\n",
      "[ 85%] \u001b[32mBuilding CXX object _deps/highway-build/CMakeFiles/hwy_contrib.dir/hwy/contrib/sort/vqsort_u64d.cc.o\u001b[0m\r\n",
      "/usr/bin/cmake: /opt/conda/lib/libcurl.so.4: no version information available (required by /usr/bin/cmake)\r\n",
      "[ 89%] \u001b[32mBuilding CXX object _deps/highway-build/CMakeFiles/hwy_contrib.dir/hwy/contrib/image/image.cc.o\u001b[0m\r\n",
      "/usr/bin/cmake: /opt/conda/lib/libcurl.so.4: no version information available (required by /usr/bin/cmake)\r\n",
      "[ 89%] \u001b[32mBuilding CXX object _deps/highway-build/CMakeFiles/hwy_contrib.dir/hwy/contrib/sort/vqsort.cc.o\u001b[0m\r\n",
      "/usr/bin/cmake: /opt/conda/lib/libcurl.so.4: no version information available (required by /usr/bin/cmake)\r\n",
      "[ 89%] \u001b[32m\u001b[1mLinking CXX static library libhwy_contrib.a\u001b[0m\r\n",
      "/usr/bin/cmake: /opt/conda/lib/libcurl.so.4: no version information available (required by /usr/bin/cmake)\r\n",
      "/usr/bin/cmake: /opt/conda/lib/libcurl.so.4: no version information available (required by /usr/bin/cmake)\r\n",
      "/usr/bin/cmake: /opt/conda/lib/libcurl.so.4: no version information available (required by /usr/bin/cmake)\r\n",
      "[ 89%] Built target hwy_contrib\r\n",
      "/usr/bin/cmake: /opt/conda/lib/libcurl.so.4: no version information available (required by /usr/bin/cmake)\r\n",
      "\u001b[35m\u001b[1mScanning dependencies of target libgemma\u001b[0m\r\n",
      "/usr/bin/cmake: /opt/conda/lib/libcurl.so.4: no version information available (required by /usr/bin/cmake)\r\n",
      "/usr/bin/cmake: /opt/conda/lib/libcurl.so.4: no version information available (required by /usr/bin/cmake)\r\n",
      "[ 92%] \u001b[32mBuilding CXX object _deps/gemma-build/CMakeFiles/libgemma.dir/compression/blob_store.cc.o\u001b[0m\r\n",
      "[ 92%] \u001b[32mBuilding CXX object _deps/gemma-build/CMakeFiles/libgemma.dir/gemma/gemma.cc.o\u001b[0m\r\n",
      "/usr/bin/cmake: /opt/conda/lib/libcurl.so.4: no version information available (required by /usr/bin/cmake)\r\n",
      "[ 92%] \u001b[32m\u001b[1mLinking CXX static library libgemma.a\u001b[0m\r\n",
      "/usr/bin/cmake: /opt/conda/lib/libcurl.so.4: no version information available (required by /usr/bin/cmake)\r\n",
      "/usr/bin/cmake: /opt/conda/lib/libcurl.so.4: no version information available (required by /usr/bin/cmake)\r\n",
      "/usr/bin/cmake: /opt/conda/lib/libcurl.so.4: no version information available (required by /usr/bin/cmake)\r\n",
      "[ 92%] Built target libgemma\r\n",
      "/usr/bin/cmake: /opt/conda/lib/libcurl.so.4: no version information available (required by /usr/bin/cmake)\r\n",
      "\u001b[35m\u001b[1mScanning dependencies of target cgemma\u001b[0m\r\n",
      "/usr/bin/cmake: /opt/conda/lib/libcurl.so.4: no version information available (required by /usr/bin/cmake)\r\n",
      "/usr/bin/cmake: /opt/conda/lib/libcurl.so.4: no version information available (required by /usr/bin/cmake)\r\n",
      "/usr/bin/cmake: /opt/conda/lib/libcurl.so.4: no version information available (required by /usr/bin/cmake)\r\n",
      "/usr/bin/cmake: /opt/conda/lib/libcurl.so.4: no version information available (required by /usr/bin/cmake)\r\n",
      "[ 92%] \u001b[32mBuilding CXX object src/CMakeFiles/cgemma.dir/scheduler.cpp.o\u001b[0m\r\n",
      "[ 92%] \u001b[32mBuilding CXX object src/CMakeFiles/cgemma.dir/cgemma.cpp.o\u001b[0m\r\n",
      "[ 92%] \u001b[32mBuilding CXX object src/CMakeFiles/cgemma.dir/session.cpp.o\u001b[0m\r\n",
      "[ 96%] \u001b[32mBuilding CXX object src/CMakeFiles/cgemma.dir/instance.cpp.o\u001b[0m\r\n",
      "/usr/bin/cmake: /opt/conda/lib/libcurl.so.4: no version information available (required by /usr/bin/cmake)\r\n",
      "[100%] \u001b[32mBuilding CXX object src/CMakeFiles/cgemma.dir/utils/file_io.cpp.o\u001b[0m\r\n",
      "/usr/bin/cmake: /opt/conda/lib/libcurl.so.4: no version information available (required by /usr/bin/cmake)\r\n",
      "[100%] \u001b[32m\u001b[1mLinking CXX shared module cgemma.so\u001b[0m\r\n",
      "/usr/bin/cmake: /opt/conda/lib/libcurl.so.4: no version information available (required by /usr/bin/cmake)\r\n",
      "/usr/bin/cmake: /opt/conda/lib/libcurl.so.4: no version information available (required by /usr/bin/cmake)\r\n",
      "[100%] Built target cgemma\r\n",
      "/usr/bin/cmake: /opt/conda/lib/libcurl.so.4: no version information available (required by /usr/bin/cmake)\r\n",
      "/usr/bin/cmake: /opt/conda/lib/libcurl.so.4: no version information available (required by /usr/bin/cmake)\r\n",
      "/usr/bin/cmake: /opt/conda/lib/libcurl.so.4: no version information available (required by /usr/bin/cmake)\r\n",
      "/usr/bin/cmake: /opt/conda/lib/libcurl.so.4: no version information available (required by /usr/bin/cmake)\r\n",
      "/usr/bin/cmake: /opt/conda/lib/libcurl.so.4: no version information available (required by /usr/bin/cmake)\r\n",
      "[ 50%] Built target sentencepiece\r\n",
      "/usr/bin/cmake: /opt/conda/lib/libcurl.so.4: no version information available (required by /usr/bin/cmake)\r\n",
      "/usr/bin/cmake: /opt/conda/lib/libcurl.so.4: no version information available (required by /usr/bin/cmake)\r\n",
      "[ 57%] Built target hwy\r\n",
      "/usr/bin/cmake: /opt/conda/lib/libcurl.so.4: no version information available (required by /usr/bin/cmake)\r\n",
      "/usr/bin/cmake: /opt/conda/lib/libcurl.so.4: no version information available (required by /usr/bin/cmake)\r\n",
      "[ 89%] Built target hwy_contrib\r\n",
      "/usr/bin/cmake: /opt/conda/lib/libcurl.so.4: no version information available (required by /usr/bin/cmake)\r\n",
      "/usr/bin/cmake: /opt/conda/lib/libcurl.so.4: no version information available (required by /usr/bin/cmake)\r\n",
      "[ 92%] Built target libgemma\r\n",
      "/usr/bin/cmake: /opt/conda/lib/libcurl.so.4: no version information available (required by /usr/bin/cmake)\r\n",
      "/usr/bin/cmake: /opt/conda/lib/libcurl.so.4: no version information available (required by /usr/bin/cmake)\r\n",
      "[100%] Built target cgemma\r\n",
      "/usr/bin/cmake: /opt/conda/lib/libcurl.so.4: no version information available (required by /usr/bin/cmake)\r\n",
      "/usr/bin/cmake: /opt/conda/lib/libcurl.so.4: no version information available (required by /usr/bin/cmake)\r\n",
      "\u001b[36mInstall the project...\u001b[0m\r\n",
      "/usr/bin/cmake: /opt/conda/lib/libcurl.so.4: no version information available (required by /usr/bin/cmake)\r\n",
      "-- Install configuration: \"Release\"\r\n",
      "-- Installing: /usr/local/openresty/luajit/lib/lua/5.1/cgemma.so\r\n",
      "-- Set runtime path of \"/usr/local/openresty/luajit/lib/lua/5.1/cgemma.so\" to \"\"\r\n",
      "-- Installing: /usr/local/lib/libsentencepiece.so.0.0.0\r\n",
      "-- Installing: /usr/local/lib/libsentencepiece.so.0\r\n",
      "-- Installing: /usr/local/lib/libsentencepiece.so\r\n"
     ]
    }
   ],
   "source": [
    "!mkdir -p lua-cgemma/build\n",
    "os.chdir(\"/opt/lua-cgemma/build\")\n",
    "!cmake -DCMAKE_BUILD_TYPE=\"Release\" -DCMAKE_CXX_FLAGS=\"-DGEMMA_TOPK=5\" .. && make -j4 && make install"
   ]
  },
  {
   "cell_type": "markdown",
   "id": "082f0ec5",
   "metadata": {
    "papermill": {
     "duration": 0.031718,
     "end_time": "2024-04-12T15:05:03.783943",
     "exception": false,
     "start_time": "2024-04-12T15:05:03.752225",
     "status": "completed"
    },
    "tags": []
   },
   "source": [
    "**3rd step:** Test whether the module is installed correctly:"
   ]
  },
  {
   "cell_type": "code",
   "execution_count": 6,
   "id": "e0b9aabd",
   "metadata": {
    "execution": {
     "iopub.execute_input": "2024-04-12T15:05:03.851816Z",
     "iopub.status.busy": "2024-04-12T15:05:03.851196Z",
     "iopub.status.idle": "2024-04-12T15:05:05.034516Z",
     "shell.execute_reply": "2024-04-12T15:05:05.033446Z"
    },
    "papermill": {
     "duration": 1.221179,
     "end_time": "2024-04-12T15:05:05.037534",
     "exception": false,
     "start_time": "2024-04-12T15:05:03.816355",
     "status": "completed"
    },
    "tags": []
   },
   "outputs": [
    {
     "name": "stdout",
     "output_type": "stream",
     "text": [
      "\r\n",
      "    __\r\n",
      "   / /_  ______ _      _________ ____  ____ ___  ____ ___  ____ _\r\n",
      "  / / / / / __ `/_____/ ___/ __ `/ _ \\/ __ `__ \\/ __ `__ \\/ __ `/\r\n",
      " / / /_/ / /_/ /_____/ /__/ /_/ /  __/ / / / / / / / / / / /_/ /\r\n",
      "/_/\\__,_/\\__,_/      \\___/\\__, /\\___/_/ /_/ /_/_/ /_/ /_/\\__,_/\r\n",
      "                         /____/\r\n",
      "\r\n",
      "Date & Time                                : 2024-04-12 15:05:04\r\n",
      "Max Sequence Length                        : 4096\r\n",
      "Top-K                                      : 5\r\n",
      "Weight Type                                : SFP\r\n",
      "Embedder Input Type                        : b16\r\n",
      "Prefill Token Batch Size                   : 16\r\n",
      "Hardware Concurrency                       : 4\r\n",
      "Instruction Set                            : AVX2 (256 bits)\r\n",
      "Compiled Config                            : opt\r\n",
      "\r\n"
     ]
    }
   ],
   "source": [
    "!resty -e 'require(\"cgemma\").info()'"
   ]
  },
  {
   "cell_type": "markdown",
   "id": "44845962",
   "metadata": {
    "papermill": {
     "duration": 0.033244,
     "end_time": "2024-04-12T15:05:05.105293",
     "exception": false,
     "start_time": "2024-04-12T15:05:05.072049",
     "status": "completed"
    },
    "tags": []
   },
   "source": [
    "# Launch AI Assistant Service"
   ]
  },
  {
   "cell_type": "code",
   "execution_count": 7,
   "id": "73ab5528",
   "metadata": {
    "_kg_hide-input": true,
    "execution": {
     "iopub.execute_input": "2024-04-12T15:05:05.173472Z",
     "iopub.status.busy": "2024-04-12T15:05:05.172661Z",
     "iopub.status.idle": "2024-04-12T15:05:05.177504Z",
     "shell.execute_reply": "2024-04-12T15:05:05.176600Z"
    },
    "papermill": {
     "duration": 0.041457,
     "end_time": "2024-04-12T15:05:05.179950",
     "exception": false,
     "start_time": "2024-04-12T15:05:05.138493",
     "status": "completed"
    },
    "tags": []
   },
   "outputs": [],
   "source": [
    "import os\n",
    "os.chdir(\"/opt\")"
   ]
  },
  {
   "cell_type": "markdown",
   "id": "65d88379",
   "metadata": {
    "papermill": {
     "duration": 0.032484,
     "end_time": "2024-04-12T15:05:05.245281",
     "exception": false,
     "start_time": "2024-04-12T15:05:05.212797",
     "status": "completed"
    },
    "tags": []
   },
   "source": [
    "**1st step:** Clone configuration and data files from [GitHub](https://github.com/ufownl/ai-assistant-for-data-science-beginners): "
   ]
  },
  {
   "cell_type": "code",
   "execution_count": 8,
   "id": "94e1af4e",
   "metadata": {
    "_kg_hide-output": true,
    "execution": {
     "iopub.execute_input": "2024-04-12T15:05:05.314301Z",
     "iopub.status.busy": "2024-04-12T15:05:05.313171Z",
     "iopub.status.idle": "2024-04-12T15:05:06.777413Z",
     "shell.execute_reply": "2024-04-12T15:05:06.776042Z"
    },
    "papermill": {
     "duration": 1.502161,
     "end_time": "2024-04-12T15:05:06.780585",
     "exception": false,
     "start_time": "2024-04-12T15:05:05.278424",
     "status": "completed"
    },
    "tags": []
   },
   "outputs": [
    {
     "name": "stdout",
     "output_type": "stream",
     "text": [
      "Cloning into 'ai-assistant-for-data-science-beginners'...\r\n",
      "remote: Enumerating objects: 21, done.\u001b[K\r\n",
      "remote: Counting objects: 100% (21/21), done.\u001b[K\r\n",
      "remote: Compressing objects: 100% (18/18), done.\u001b[K\r\n",
      "remote: Total 21 (delta 1), reused 17 (delta 0), pack-reused 0\u001b[K\r\n",
      "Unpacking objects: 100% (21/21), 50.83 KiB | 3.18 MiB/s, done.\r\n"
     ]
    }
   ],
   "source": [
    "!git clone https://github.com/ufownl/ai-assistant-for-data-science-beginners.git"
   ]
  },
  {
   "cell_type": "markdown",
   "id": "2f0c29a3",
   "metadata": {
    "papermill": {
     "duration": 0.032082,
     "end_time": "2024-04-12T15:05:06.845249",
     "exception": false,
     "start_time": "2024-04-12T15:05:06.813167",
     "status": "completed"
    },
    "tags": []
   },
   "source": [
    "**2nd step:** Link weights file:"
   ]
  },
  {
   "cell_type": "code",
   "execution_count": 9,
   "id": "707c1dd0",
   "metadata": {
    "execution": {
     "iopub.execute_input": "2024-04-12T15:05:06.912461Z",
     "iopub.status.busy": "2024-04-12T15:05:06.912033Z",
     "iopub.status.idle": "2024-04-12T15:05:09.120461Z",
     "shell.execute_reply": "2024-04-12T15:05:09.119030Z"
    },
    "papermill": {
     "duration": 2.246007,
     "end_time": "2024-04-12T15:05:09.123370",
     "exception": false,
     "start_time": "2024-04-12T15:05:06.877363",
     "status": "completed"
    },
    "tags": []
   },
   "outputs": [],
   "source": [
    "os.chdir(\"/opt/ai-assistant-for-data-science-beginners\")\n",
    "!ln -s -f /kaggle/input/gemma/gemmacpp/1.1-2b-it-sfp/1/2b-it-sfp.sbs\n",
    "!ln -s -f /kaggle/input/gemma/gemmacpp/1.1-2b-it-sfp/1/tokenizer.spm"
   ]
  },
  {
   "cell_type": "markdown",
   "id": "8c38eb15",
   "metadata": {
    "papermill": {
     "duration": 0.035341,
     "end_time": "2024-04-12T15:05:09.193524",
     "exception": false,
     "start_time": "2024-04-12T15:05:09.158183",
     "status": "completed"
    },
    "tags": []
   },
   "source": [
    "**3rd step:** Generate prompt context:"
   ]
  },
  {
   "cell_type": "code",
   "execution_count": 10,
   "id": "c1963083",
   "metadata": {
    "execution": {
     "iopub.execute_input": "2024-04-12T15:05:09.265728Z",
     "iopub.status.busy": "2024-04-12T15:05:09.265251Z",
     "iopub.status.idle": "2024-04-12T15:16:18.312234Z",
     "shell.execute_reply": "2024-04-12T15:16:18.311173Z"
    },
    "papermill": {
     "duration": 669.087304,
     "end_time": "2024-04-12T15:16:18.314897",
     "exception": false,
     "start_time": "2024-04-12T15:05:09.227593",
     "status": "completed"
    },
    "tags": []
   },
   "outputs": [
    {
     "name": "stdout",
     "output_type": "stream",
     "text": [
      "Loading model ...\r\n",
      "Random seed of session: 978518528\r\n",
      "Reading prompt ...\r\n",
      "\r\n",
      "Done! Session states of the prompt have been dumped to \"dump.bin\"\r\n",
      "-rw-r--r-- 1 root root 86M Apr 12 15:16 dump.bin\r\n"
     ]
    }
   ],
   "source": [
    "!resty print_prompt.lua | resty /opt/lua-cgemma/examples/cache_prompt.lua\n",
    "!ls -lh dump.bin"
   ]
  },
  {
   "cell_type": "markdown",
   "id": "7260bbe1",
   "metadata": {
    "papermill": {
     "duration": 0.050861,
     "end_time": "2024-04-12T15:16:18.414776",
     "exception": false,
     "start_time": "2024-04-12T15:16:18.363915",
     "status": "completed"
    },
    "tags": []
   },
   "source": [
    "*Note: `dump.bin` is the cached state of the context prompts, it could be saved somewhere without regenerating it every time.*"
   ]
  },
  {
   "cell_type": "markdown",
   "id": "7ad3dfa3",
   "metadata": {
    "papermill": {
     "duration": 0.048984,
     "end_time": "2024-04-12T15:16:18.512362",
     "exception": false,
     "start_time": "2024-04-12T15:16:18.463378",
     "status": "completed"
    },
    "tags": []
   },
   "source": [
    "**4th step:** Launch assistant service:"
   ]
  },
  {
   "cell_type": "code",
   "execution_count": 11,
   "id": "e891b1ce",
   "metadata": {
    "execution": {
     "iopub.execute_input": "2024-04-12T15:16:18.613594Z",
     "iopub.status.busy": "2024-04-12T15:16:18.613178Z",
     "iopub.status.idle": "2024-04-12T15:16:19.720214Z",
     "shell.execute_reply": "2024-04-12T15:16:19.718840Z"
    },
    "papermill": {
     "duration": 1.161043,
     "end_time": "2024-04-12T15:16:19.722877",
     "exception": false,
     "start_time": "2024-04-12T15:16:18.561834",
     "status": "completed"
    },
    "tags": []
   },
   "outputs": [],
   "source": [
    "!openresty -p . -c assistant.conf"
   ]
  },
  {
   "cell_type": "markdown",
   "id": "da4c90ef",
   "metadata": {
    "papermill": {
     "duration": 0.049072,
     "end_time": "2024-04-12T15:16:19.820748",
     "exception": false,
     "start_time": "2024-04-12T15:16:19.771676",
     "status": "completed"
    },
    "tags": []
   },
   "source": [
    "# Chat to AI Assistant\n",
    "\n",
    "Running this notebook in interactive mode lets you chat with the AI assistant yourself. Or you can follow the instructions in this notebook to install and launch this AI assistant service on your computer, then open [http://localhost:8042](http://localhost:8042) with your browser to chat with the AI assistant."
   ]
  },
  {
   "cell_type": "code",
   "execution_count": 12,
   "id": "454ca0f2",
   "metadata": {
    "_kg_hide-input": true,
    "execution": {
     "iopub.execute_input": "2024-04-12T15:16:19.921077Z",
     "iopub.status.busy": "2024-04-12T15:16:19.920088Z",
     "iopub.status.idle": "2024-04-12T15:16:19.928956Z",
     "shell.execute_reply": "2024-04-12T15:16:19.928073Z"
    },
    "papermill": {
     "duration": 0.06165,
     "end_time": "2024-04-12T15:16:19.931260",
     "exception": false,
     "start_time": "2024-04-12T15:16:19.869610",
     "status": "completed"
    },
    "tags": []
   },
   "outputs": [],
   "source": [
    "# Define the prompter input\n",
    "\n",
    "class Prompter:\n",
    "    __dummy_input = [\n",
    "        \"Hi, Gemma!\",\n",
    "        \"What mathematical concepts should I learn?\",\n",
    "        \"Tell me the most popular programming languages used in data science.\",\n",
    "        \"\"\n",
    "    ]\n",
    "    \n",
    "    def __init__(self):\n",
    "        self.__turn = 0\n",
    "        self.__interactive = os.environ.get(\"KAGGLE_KERNEL_RUN_TYPE\") == \"Interactive\"\n",
    "        \n",
    "    def __call__(self):\n",
    "        if self.__interactive:\n",
    "            self.__turn += 1\n",
    "            return input(\"you:\")\n",
    "        else:\n",
    "            dummy = self.__dummy_input[self.__turn]\n",
    "            self.__turn += 1\n",
    "            print(\"you: \", end=\"\")\n",
    "            print(dummy, flush=True)\n",
    "            return dummy"
   ]
  },
  {
   "cell_type": "code",
   "execution_count": 13,
   "id": "432991e1",
   "metadata": {
    "execution": {
     "iopub.execute_input": "2024-04-12T15:16:20.031965Z",
     "iopub.status.busy": "2024-04-12T15:16:20.031511Z",
     "iopub.status.idle": "2024-04-12T15:23:09.575449Z",
     "shell.execute_reply": "2024-04-12T15:23:09.573801Z"
    },
    "papermill": {
     "duration": 409.597696,
     "end_time": "2024-04-12T15:23:09.578361",
     "exception": false,
     "start_time": "2024-04-12T15:16:19.980665",
     "status": "completed"
    },
    "tags": []
   },
   "outputs": [
    {
     "name": "stdout",
     "output_type": "stream",
     "text": [
      "system: New session started! Random seed of current session: 242083259\n",
      "you: Hi, Gemma!\n",
      "gemma: **Great to hear from you!**\n",
      "\n",
      "I am excited to assist you with your journey to become a data scientist. I can provide you with the necessary knowledge, skills, and resources to achieve your goals.\n",
      "\n",
      "**Here are some ways I can help you:**\n",
      "\n",
      "**1. Foundation Building:**\n",
      "\n",
      "- Understanding statistical concepts (variance, correlations, etc.)\n",
      "- Learning basic programming principles in Python and R\n",
      "\n",
      "**2. Data Analysis Methods:**\n",
      "\n",
      "- Cluster analysis, regression, time series analysis, and cohort analysis\n",
      "\n",
      "**3. Data Databases:**\n",
      "\n",
      "- SQL and extensions for Big Data tools\n",
      "\n",
      "**4. Data Visualization:**\n",
      "\n",
      "- Using tools like D3.js for browser visualizations\n",
      "\n",
      "**5. Data Project Development:**\n",
      "\n",
      "- Building simple and complex projects to showcase your skills\n",
      "\n",
      "**6. Industry Knowledge:**\n",
      "\n",
      "- Staying updated on the latest data science trends and advancements\n",
      "\n",
      "**7. Career Guidance:**\n",
      "\n",
      "- Identifying job opportunities and preparing your resume and cover letter\n",
      "- Networking strategies and platforms\n",
      "\n",
      "**8. Continuous Learning:**\n",
      "\n",
      "- Keeping up with the latest advancements in the field\n",
      "- Exploring certifications and professional development opportunities\n",
      "\n",
      "**Additional Resources:**\n",
      "\n",
      "- [Online courses and tutorials](https://www.coursera.org/, https://www.udacity.com/)\n",
      "- [Books and journals](https://www.oreilly.com/library/view/data-science-for-business/9781491953738/)\n",
      "- [Industry publications and blogs](https://datascience.com/, https://www.kaggle.com/)\n",
      "\n",
      "**Tips for Success:**\n",
      "\n",
      "- Be persistent and patient\n",
      "- Practice regularly\n",
      "- Seek feedback from peers and mentors\n",
      "- Stay motivated and passionate\n",
      "\n",
      "**I am here to support you every step of the way. Let's start your journey towards becoming a data scientist!**\n",
      "you: What mathematical concepts should I learn?\n",
      "gemma: **Basic Mathematical Concepts for Data Science:**\n",
      "\n",
      "**1. Statistics:**\n",
      "- Variance\n",
      "- Standard deviation\n",
      "- Correlation coefficients\n",
      "- Hypothesis testing\n",
      "- Probability\n",
      "\n",
      "**2. Linear Algebra:**\n",
      "- Matrix operations\n",
      "- Eigenvalues and eigenvectors\n",
      "- Linear regression\n",
      "\n",
      "**3. Calculus:**\n",
      "- Derivatives and integrals\n",
      "- Optimization\n",
      "- Curve fitting\n",
      "\n",
      "**4. Probability and Statistics:**\n",
      "- Conditional probability\n",
      "- Bayes’ theorem\n",
      "- Hypothesis testing\n",
      "- Confidence intervals\n",
      "\n",
      "**5. Statistical Modeling:**\n",
      "- Regression analysis\n",
      "- Logistic regression\n",
      "- Decision trees\n",
      "\n",
      "**6. Time Series Analysis:**\n",
      "- Autocorrelation\n",
      "- Moving averages\n",
      "- Seasonality\n",
      "\n",
      "**7. Machine Learning Concepts:**\n",
      "- Linear regression\n",
      "- Logistic regression\n",
      "- Decision trees\n",
      "- Support vector machines\n",
      "\n",
      "**Intermediate Mathematical Concepts:**\n",
      "\n",
      "- Matrix factorization\n",
      "- Principal component analysis (PCA)\n",
      "- Feature selection\n",
      "- Dimensionality reduction\n",
      "\n",
      "**Advanced Mathematical Concepts:**\n",
      "\n",
      "- Deep learning concepts (neural networks)\n",
      "- Bayesian inference\n",
      "- Statistical learning theory\n",
      "\n",
      "\n",
      "**Tips for Learning Mathematical Concepts:**\n",
      "\n",
      "- Use online resources\n",
      "- Take courses or workshops\n",
      "- Practice with real-world datasets\n",
      "- Join mathematical societies and forums\n",
      "\n",
      "\n",
      "**Additional Resources:**\n",
      "\n",
      "- [Khan Academy](https://www.khanacademy.org/)\n",
      "- [Coursera](https://www.coursera.org/)\n",
      "- [Udacity](https://www.udacity.com/)\n",
      "you: Tell me the most popular programming languages used in data science.\n",
      "gemma: **Most Popular Programming Languages Used in Data Science:**\n",
      "\n",
      "**1. Python:**\n",
      "- Beginner-friendly and widely used\n",
      "- Popular in machine learning, data analysis, and scientific computing\n",
      "- Extensive libraries and frameworks\n",
      "\n",
      "**2. R:**\n",
      "- Statistical programming language with strong statistical inference capabilities\n",
      "- Used for data visualization and statistical analysis\n",
      "- Extensive statistical libraries\n",
      "\n",
      "**3. SQL:**\n",
      "- Standard language for data manipulation and analysis\n",
      "- Used in data cleaning, data exploration, and reporting\n",
      "- Widely used in database management systems\n",
      "\n",
      "**4. JavaScript:**\n",
      "- Used for data visualization and client-side interactions\n",
      "- Popular in web data science and data visualization\n",
      "- Easy to learn due to its close relationship to HTML and CSS\n",
      "\n",
      "**5. C++:**\n",
      "- Powerful language for high-performance data processing and machine learning\n",
      "- Suitable for large-scale data analysis and optimization\n",
      "\n",
      "**Other Notable Languages:**\n",
      "\n",
      "- Java\n",
      "- Scala\n",
      "- Go\n",
      "- Kotlin\n",
      "\n",
      "\n",
      "**Tips for Choosing a Programming Language:**\n",
      "\n",
      "- Skill level\n",
      "- Data science focus\n",
      "- Project requirements\n",
      "- Availability of libraries and frameworks\n",
      "you: \n"
     ]
    }
   ],
   "source": [
    "import json\n",
    "from websockets.sync.client import connect\n",
    "\n",
    "# Connect to Server and Chat with AI Assistant\n",
    "with connect(\"ws://localhost:8042/cgemma/session\") as ws:\n",
    "    you = Prompter()\n",
    "    loading = \"-\\\\|/\"\n",
    "    while True:\n",
    "        text = None\n",
    "        msg = json.loads(ws.recv())\n",
    "        if \"text\" in msg:\n",
    "            print(msg[\"role\"], end=\": \")\n",
    "            print(msg[\"text\"], flush=True)\n",
    "            text = you()\n",
    "        elif msg[\"pos\"] < msg[\"prompt_size\"]:\n",
    "            print(msg[\"role\"], end=\": \")\n",
    "            print(loading[msg[\"pos\"] % len(loading)], end=\"\\r\", flush=True)\n",
    "        else:\n",
    "            if msg[\"pos\"] == msg[\"prompt_size\"]:\n",
    "                print(msg[\"role\"], end=\": \")\n",
    "            if \"token\" in msg:\n",
    "                print(msg[\"token\"], end=\"\", flush=True)\n",
    "            else:\n",
    "                print(\"\", flush=True)\n",
    "                text = you()\n",
    "        if not text is None:\n",
    "            if text:\n",
    "                ws.send(json.dumps({\n",
    "                    \"role\": \"user\",\n",
    "                    \"text\": text\n",
    "                }))\n",
    "            else:\n",
    "                break"
   ]
  }
 ],
 "metadata": {
  "kaggle": {
   "accelerator": "none",
   "dataSources": [
    {
     "databundleVersionId": 7669720,
     "sourceId": 64148,
     "sourceType": "competition"
    },
    {
     "isSourceIdPinned": true,
     "modelInstanceId": 22008,
     "sourceId": 26145,
     "sourceType": "modelInstanceVersion"
    }
   ],
   "dockerImageVersionId": 30684,
   "isGpuEnabled": false,
   "isInternetEnabled": true,
   "language": "python",
   "sourceType": "notebook"
  },
  "kernelspec": {
   "display_name": "Python 3",
   "language": "python",
   "name": "python3"
  },
  "language_info": {
   "codemirror_mode": {
    "name": "ipython",
    "version": 3
   },
   "file_extension": ".py",
   "mimetype": "text/x-python",
   "name": "python",
   "nbconvert_exporter": "python",
   "pygments_lexer": "ipython3",
   "version": "3.10.13"
  },
  "papermill": {
   "default_parameters": {},
   "duration": 1399.218996,
   "end_time": "2024-04-12T15:23:10.244156",
   "environment_variables": {},
   "exception": null,
   "input_path": "__notebook__.ipynb",
   "output_path": "__notebook__.ipynb",
   "parameters": {},
   "start_time": "2024-04-12T14:59:51.025160",
   "version": "2.5.0"
  }
 },
 "nbformat": 4,
 "nbformat_minor": 5
}
